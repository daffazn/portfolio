{
 "cells": [
  {
   "cell_type": "markdown",
   "id": "acting-bargain",
   "metadata": {},
   "source": [
    "***"
   ]
  },
  {
   "cell_type": "markdown",
   "id": "brown-sphere",
   "metadata": {},
   "source": [
    "# **Historical Airplane Accident Analysis**\n",
    "\n",
    "The dataset used was scraped from the __[PlaneCrashInfo.com](http://www.planecrashinfo.com)__. It contains the details about historical airplane accidents from 1908 to 2021.<br>The contents of this Notebook are:\n",
    "\n",
    "1. Data Collecting\n",
    "2. Data Cleaning and Wrangling\n",
    "3. Data Exploration"
   ]
  },
  {
   "cell_type": "markdown",
   "id": "consistent-wyoming",
   "metadata": {},
   "source": [
    "***"
   ]
  },
  {
   "cell_type": "markdown",
   "id": "advance-personality",
   "metadata": {},
   "source": [
    "# **Data Collecting**"
   ]
  },
  {
   "cell_type": "code",
   "execution_count": 1,
   "id": "thermal-blair",
   "metadata": {},
   "outputs": [],
   "source": [
    "import numpy as np\n",
    "import pandas as pd\n",
    "import datetime\n",
    "from matplotlib import pyplot as plt\n",
    "\n",
    "from urllib.request import Request, urlopen\n",
    "from bs4 import BeautifulSoup\n",
    "pd.options.mode.chained_assignment = None"
   ]
  },
  {
   "cell_type": "code",
   "execution_count": 2,
   "id": "floral-witness",
   "metadata": {},
   "outputs": [],
   "source": [
    "def getHTMLContent(link):\n",
    "    req = Request(link, headers={'User-Agent': 'Mozilla/5.0'})\n",
    "    html = urlopen(req)\n",
    "    soup = BeautifulSoup(html, 'html.parser')\n",
    "    return soup"
   ]
  },
  {
   "cell_type": "markdown",
   "id": "anonymous-testament",
   "metadata": {},
   "source": [
    "**Creating the dataframe and its columns name first**"
   ]
  },
  {
   "cell_type": "code",
   "execution_count": 3,
   "id": "aware-alliance",
   "metadata": {},
   "outputs": [],
   "source": [
    "header = []\n",
    "tables = getHTMLContent('http://www.planecrashinfo.com/1920/1920-1.htm').find_all('table')[0].find_all('tr')\n",
    "for row in range(1, len(tables)):\n",
    "    header.append(tables[row].find_all('td')[0].text[:-1].lower())\n",
    "df = pd.DataFrame([], columns=header)\n",
    "df.rename(columns={\"ac\\n        type\": \"ac_type\", \"flight #\":\"flight_num\", \"cn / ln\": \"line_num\"}, inplace=True)"
   ]
  },
  {
   "cell_type": "markdown",
   "id": "tough-undergraduate",
   "metadata": {},
   "source": [
    "**Extracting the data**"
   ]
  },
  {
   "cell_type": "code",
   "execution_count": 4,
   "id": "genetic-gilbert",
   "metadata": {},
   "outputs": [
    {
     "name": "stdout",
     "output_type": "stream",
     "text": [
      "1920(52);1921(13);1922(14);1923(14);1924(8);1925(12);1926(14);1927(22);1928(37);1929(40);1930(27);1931(34);1932(29);1933(29);1934(32);1935(43);1936(51);1937(37);1938(58);1939(31);1940(26);1941(28);1942(39);1943(45);1944(57);1945(76);1946(90);1947(83);1948(79);1949(68);1950(72);1951(76);1952(66);1953(71);1954(63);1955(58);1956(54);1957(67);1958(69);1959(67);1960(71);1961(61);1962(79);1963(65);1964(60);1965(65);1966(61);1967(59);1968(66);1969(70);1970(74);1971(59);1972(78);1973(65);1974(59);1975(52);1976(58);1977(64);1978(52);1979(61);1980(46);1981(51);1982(55);1983(49);1984(49);1985(57);1986(52);1987(55);1988(84);1989(84);1990(62);1991(70);1992(67);1993(57);1994(75);1995(61);1996(69);1997(57);1998(60);1999(63);2000(64);2001(59);2002(56);2003(63);2004(47);2005(46);2006(39);2007(44);2008(64);2009(47);2010(41);2011(37);2012(27);2013(26);2014(24);2015(19);2016(24);2017(16);2018(20);2019(14);2020(9);2021(8);"
     ]
    }
   ],
   "source": [
    "for year in range(1920, 2021+1):\n",
    "    print(year, end ='')\n",
    "    i=1\n",
    "    while i != -1:\n",
    "        try:\n",
    "            l = []\n",
    "            tables = getHTMLContent('http://www.planecrashinfo.com/'+str(year)+'/'+str(year)+'-'+str(i)+'.htm').find_all('table')[0].find_all('tr')\n",
    "            for row in range(1, len(tables)):\n",
    "                l.append(tables[row].find_all('td')[1].text)\n",
    "            df.loc[len(df), :] = l\n",
    "            i += 1\n",
    "        except:\n",
    "            print('(' + str(i) + ')' + ';', end='')\n",
    "            i = -1"
   ]
  },
  {
   "cell_type": "markdown",
   "id": "unauthorized-solution",
   "metadata": {},
   "source": [
    "**Saving the data for backup**"
   ]
  },
  {
   "cell_type": "code",
   "execution_count": 5,
   "id": "crude-transportation",
   "metadata": {},
   "outputs": [],
   "source": [
    "df.to_csv('extracted_data.csv', index = False, header=True)"
   ]
  },
  {
   "cell_type": "markdown",
   "id": "unexpected-calculation",
   "metadata": {},
   "source": [
    "**I start here if the kernel restarted (Web scraping 5000+ pages takes a long time)**"
   ]
  },
  {
   "cell_type": "code",
   "execution_count": 6,
   "id": "voluntary-library",
   "metadata": {},
   "outputs": [],
   "source": [
    "df = pd.read_csv('extracted_data.csv')"
   ]
  },
  {
   "cell_type": "markdown",
   "id": "satisfied-valley",
   "metadata": {},
   "source": [
    "**View the data**"
   ]
  },
  {
   "cell_type": "code",
   "execution_count": 7,
   "id": "scenic-recipe",
   "metadata": {},
   "outputs": [
    {
     "data": {
      "text/html": [
       "<div>\n",
       "<style scoped>\n",
       "    .dataframe tbody tr th:only-of-type {\n",
       "        vertical-align: middle;\n",
       "    }\n",
       "\n",
       "    .dataframe tbody tr th {\n",
       "        vertical-align: top;\n",
       "    }\n",
       "\n",
       "    .dataframe thead th {\n",
       "        text-align: right;\n",
       "    }\n",
       "</style>\n",
       "<table border=\"1\" class=\"dataframe\">\n",
       "  <thead>\n",
       "    <tr style=\"text-align: right;\">\n",
       "      <th></th>\n",
       "      <th>date</th>\n",
       "      <th>time</th>\n",
       "      <th>location</th>\n",
       "      <th>operator</th>\n",
       "      <th>flight_num</th>\n",
       "      <th>route</th>\n",
       "      <th>ac_type</th>\n",
       "      <th>registration</th>\n",
       "      <th>line_num</th>\n",
       "      <th>aboard</th>\n",
       "      <th>fatalities</th>\n",
       "      <th>ground</th>\n",
       "      <th>summary</th>\n",
       "    </tr>\n",
       "  </thead>\n",
       "  <tbody>\n",
       "    <tr>\n",
       "      <th>0</th>\n",
       "      <td>September 17, 1908</td>\n",
       "      <td>1718</td>\n",
       "      <td>Fort Myer, Virginia</td>\n",
       "      <td>Military - U.S. Army</td>\n",
       "      <td>?</td>\n",
       "      <td>Demonstration</td>\n",
       "      <td>Wright Flyer III</td>\n",
       "      <td>?</td>\n",
       "      <td>1</td>\n",
       "      <td>2   (passengers:1  crew:1)</td>\n",
       "      <td>1   (passengers:1  crew:0)</td>\n",
       "      <td>0</td>\n",
       "      <td>During a demonstration flight, a U.S. Army fly...</td>\n",
       "    </tr>\n",
       "    <tr>\n",
       "      <th>1</th>\n",
       "      <td>September 07, 1909</td>\n",
       "      <td>?</td>\n",
       "      <td>Juvisy-sur-Orge, France</td>\n",
       "      <td>?</td>\n",
       "      <td>?</td>\n",
       "      <td>Air show</td>\n",
       "      <td>Wright Byplane</td>\n",
       "      <td>SC1</td>\n",
       "      <td>?</td>\n",
       "      <td>1   (passengers:0  crew:1)</td>\n",
       "      <td>1   (passengers:0  crew:0)</td>\n",
       "      <td>0</td>\n",
       "      <td>Eugene Lefebvre was the first pilot to ever be...</td>\n",
       "    </tr>\n",
       "    <tr>\n",
       "      <th>2</th>\n",
       "      <td>July 12, 1912</td>\n",
       "      <td>0630</td>\n",
       "      <td>Atlantic City, New Jersey</td>\n",
       "      <td>Military - U.S. Navy</td>\n",
       "      <td>?</td>\n",
       "      <td>Test flight</td>\n",
       "      <td>Dirigible</td>\n",
       "      <td>?</td>\n",
       "      <td>?</td>\n",
       "      <td>5   (passengers:0  crew:5)</td>\n",
       "      <td>5   (passengers:0  crew:5)</td>\n",
       "      <td>0</td>\n",
       "      <td>First U.S. dirigible Akron exploded just offsh...</td>\n",
       "    </tr>\n",
       "    <tr>\n",
       "      <th>3</th>\n",
       "      <td>August 06, 1913</td>\n",
       "      <td>?</td>\n",
       "      <td>Victoria, British Columbia, Canada</td>\n",
       "      <td>Private</td>\n",
       "      <td>?</td>\n",
       "      <td>?</td>\n",
       "      <td>Curtiss seaplane</td>\n",
       "      <td>?</td>\n",
       "      <td>?</td>\n",
       "      <td>1   (passengers:0  crew:1)</td>\n",
       "      <td>1   (passengers:0  crew:1)</td>\n",
       "      <td>0</td>\n",
       "      <td>The first fatal airplane accident in Canada oc...</td>\n",
       "    </tr>\n",
       "    <tr>\n",
       "      <th>4</th>\n",
       "      <td>September 09, 1913</td>\n",
       "      <td>1830</td>\n",
       "      <td>Over the North Sea</td>\n",
       "      <td>Military - German Navy</td>\n",
       "      <td>?</td>\n",
       "      <td>?</td>\n",
       "      <td>Zeppelin L-1 (airship)</td>\n",
       "      <td>?</td>\n",
       "      <td>?</td>\n",
       "      <td>20   (passengers:?  crew:?)</td>\n",
       "      <td>14   (passengers:?  crew:?)</td>\n",
       "      <td>0</td>\n",
       "      <td>The airship flew into a thunderstorm and encou...</td>\n",
       "    </tr>\n",
       "  </tbody>\n",
       "</table>\n",
       "</div>"
      ],
      "text/plain": [
       "                 date   time                            location  \\\n",
       "0  September 17, 1908   1718                 Fort Myer, Virginia   \n",
       "1  September 07, 1909      ?             Juvisy-sur-Orge, France   \n",
       "2       July 12, 1912   0630           Atlantic City, New Jersey   \n",
       "3     August 06, 1913      ?  Victoria, British Columbia, Canada   \n",
       "4  September 09, 1913   1830                  Over the North Sea   \n",
       "\n",
       "                 operator flight_num          route                 ac_type  \\\n",
       "0    Military - U.S. Army          ?  Demonstration        Wright Flyer III   \n",
       "1                       ?          ?       Air show          Wright Byplane   \n",
       "2    Military - U.S. Navy          ?    Test flight               Dirigible   \n",
       "3                 Private          ?              ?        Curtiss seaplane   \n",
       "4  Military - German Navy          ?              ?  Zeppelin L-1 (airship)   \n",
       "\n",
       "  registration line_num                       aboard  \\\n",
       "0            ?        1   2   (passengers:1  crew:1)   \n",
       "1          SC1        ?   1   (passengers:0  crew:1)   \n",
       "2            ?        ?   5   (passengers:0  crew:5)   \n",
       "3            ?        ?   1   (passengers:0  crew:1)   \n",
       "4            ?        ?  20   (passengers:?  crew:?)   \n",
       "\n",
       "                    fatalities ground  \\\n",
       "0   1   (passengers:1  crew:0)      0   \n",
       "1   1   (passengers:0  crew:0)      0   \n",
       "2   5   (passengers:0  crew:5)      0   \n",
       "3   1   (passengers:0  crew:1)      0   \n",
       "4  14   (passengers:?  crew:?)      0   \n",
       "\n",
       "                                             summary  \n",
       "0  During a demonstration flight, a U.S. Army fly...  \n",
       "1  Eugene Lefebvre was the first pilot to ever be...  \n",
       "2  First U.S. dirigible Akron exploded just offsh...  \n",
       "3  The first fatal airplane accident in Canada oc...  \n",
       "4  The airship flew into a thunderstorm and encou...  "
      ]
     },
     "execution_count": 7,
     "metadata": {},
     "output_type": "execute_result"
    }
   ],
   "source": [
    "df.head()"
   ]
  },
  {
   "cell_type": "code",
   "execution_count": 8,
   "id": "headed-chinese",
   "metadata": {},
   "outputs": [
    {
     "data": {
      "text/plain": [
       "5045"
      ]
     },
     "execution_count": 8,
     "metadata": {},
     "output_type": "execute_result"
    }
   ],
   "source": [
    "df.shape[0]"
   ]
  },
  {
   "cell_type": "markdown",
   "id": "placed-constitution",
   "metadata": {},
   "source": [
    "***"
   ]
  },
  {
   "cell_type": "markdown",
   "id": "developed-rhythm",
   "metadata": {},
   "source": [
    "# **Data Cleaning and Wrangling**"
   ]
  },
  {
   "cell_type": "markdown",
   "id": "harmful-component",
   "metadata": {},
   "source": [
    "**Dropping unnecessary columns and replacing ? with NaN**"
   ]
  },
  {
   "cell_type": "code",
   "execution_count": 9,
   "id": "coordinated-prince",
   "metadata": {},
   "outputs": [],
   "source": [
    "df.drop(columns=['flight_num', 'registration', 'line_num', 'ground'], inplace=True)\n",
    "df.replace({'?':np.nan}, inplace=True)"
   ]
  },
  {
   "cell_type": "code",
   "execution_count": 10,
   "id": "suitable-puzzle",
   "metadata": {},
   "outputs": [
    {
     "data": {
      "text/html": [
       "<div>\n",
       "<style scoped>\n",
       "    .dataframe tbody tr th:only-of-type {\n",
       "        vertical-align: middle;\n",
       "    }\n",
       "\n",
       "    .dataframe tbody tr th {\n",
       "        vertical-align: top;\n",
       "    }\n",
       "\n",
       "    .dataframe thead th {\n",
       "        text-align: right;\n",
       "    }\n",
       "</style>\n",
       "<table border=\"1\" class=\"dataframe\">\n",
       "  <thead>\n",
       "    <tr style=\"text-align: right;\">\n",
       "      <th></th>\n",
       "      <th>date</th>\n",
       "      <th>time</th>\n",
       "      <th>location</th>\n",
       "      <th>operator</th>\n",
       "      <th>route</th>\n",
       "      <th>ac_type</th>\n",
       "      <th>aboard</th>\n",
       "      <th>fatalities</th>\n",
       "      <th>summary</th>\n",
       "    </tr>\n",
       "  </thead>\n",
       "  <tbody>\n",
       "    <tr>\n",
       "      <th>0</th>\n",
       "      <td>September 17, 1908</td>\n",
       "      <td>1718</td>\n",
       "      <td>Fort Myer, Virginia</td>\n",
       "      <td>Military - U.S. Army</td>\n",
       "      <td>Demonstration</td>\n",
       "      <td>Wright Flyer III</td>\n",
       "      <td>2   (passengers:1  crew:1)</td>\n",
       "      <td>1   (passengers:1  crew:0)</td>\n",
       "      <td>During a demonstration flight, a U.S. Army fly...</td>\n",
       "    </tr>\n",
       "    <tr>\n",
       "      <th>1</th>\n",
       "      <td>September 07, 1909</td>\n",
       "      <td>NaN</td>\n",
       "      <td>Juvisy-sur-Orge, France</td>\n",
       "      <td>NaN</td>\n",
       "      <td>Air show</td>\n",
       "      <td>Wright Byplane</td>\n",
       "      <td>1   (passengers:0  crew:1)</td>\n",
       "      <td>1   (passengers:0  crew:0)</td>\n",
       "      <td>Eugene Lefebvre was the first pilot to ever be...</td>\n",
       "    </tr>\n",
       "    <tr>\n",
       "      <th>2</th>\n",
       "      <td>July 12, 1912</td>\n",
       "      <td>0630</td>\n",
       "      <td>Atlantic City, New Jersey</td>\n",
       "      <td>Military - U.S. Navy</td>\n",
       "      <td>Test flight</td>\n",
       "      <td>Dirigible</td>\n",
       "      <td>5   (passengers:0  crew:5)</td>\n",
       "      <td>5   (passengers:0  crew:5)</td>\n",
       "      <td>First U.S. dirigible Akron exploded just offsh...</td>\n",
       "    </tr>\n",
       "    <tr>\n",
       "      <th>3</th>\n",
       "      <td>August 06, 1913</td>\n",
       "      <td>NaN</td>\n",
       "      <td>Victoria, British Columbia, Canada</td>\n",
       "      <td>Private</td>\n",
       "      <td>NaN</td>\n",
       "      <td>Curtiss seaplane</td>\n",
       "      <td>1   (passengers:0  crew:1)</td>\n",
       "      <td>1   (passengers:0  crew:1)</td>\n",
       "      <td>The first fatal airplane accident in Canada oc...</td>\n",
       "    </tr>\n",
       "    <tr>\n",
       "      <th>4</th>\n",
       "      <td>September 09, 1913</td>\n",
       "      <td>1830</td>\n",
       "      <td>Over the North Sea</td>\n",
       "      <td>Military - German Navy</td>\n",
       "      <td>NaN</td>\n",
       "      <td>Zeppelin L-1 (airship)</td>\n",
       "      <td>20   (passengers:?  crew:?)</td>\n",
       "      <td>14   (passengers:?  crew:?)</td>\n",
       "      <td>The airship flew into a thunderstorm and encou...</td>\n",
       "    </tr>\n",
       "  </tbody>\n",
       "</table>\n",
       "</div>"
      ],
      "text/plain": [
       "                 date   time                            location  \\\n",
       "0  September 17, 1908   1718                 Fort Myer, Virginia   \n",
       "1  September 07, 1909    NaN             Juvisy-sur-Orge, France   \n",
       "2       July 12, 1912   0630           Atlantic City, New Jersey   \n",
       "3     August 06, 1913    NaN  Victoria, British Columbia, Canada   \n",
       "4  September 09, 1913   1830                  Over the North Sea   \n",
       "\n",
       "                 operator          route                 ac_type  \\\n",
       "0    Military - U.S. Army  Demonstration        Wright Flyer III   \n",
       "1                     NaN       Air show          Wright Byplane   \n",
       "2    Military - U.S. Navy    Test flight               Dirigible   \n",
       "3                 Private            NaN        Curtiss seaplane   \n",
       "4  Military - German Navy            NaN  Zeppelin L-1 (airship)   \n",
       "\n",
       "                        aboard                   fatalities  \\\n",
       "0   2   (passengers:1  crew:1)   1   (passengers:1  crew:0)   \n",
       "1   1   (passengers:0  crew:1)   1   (passengers:0  crew:0)   \n",
       "2   5   (passengers:0  crew:5)   5   (passengers:0  crew:5)   \n",
       "3   1   (passengers:0  crew:1)   1   (passengers:0  crew:1)   \n",
       "4  20   (passengers:?  crew:?)  14   (passengers:?  crew:?)   \n",
       "\n",
       "                                             summary  \n",
       "0  During a demonstration flight, a U.S. Army fly...  \n",
       "1  Eugene Lefebvre was the first pilot to ever be...  \n",
       "2  First U.S. dirigible Akron exploded just offsh...  \n",
       "3  The first fatal airplane accident in Canada oc...  \n",
       "4  The airship flew into a thunderstorm and encou...  "
      ]
     },
     "execution_count": 10,
     "metadata": {},
     "output_type": "execute_result"
    }
   ],
   "source": [
    "df.head()"
   ]
  },
  {
   "cell_type": "markdown",
   "id": "bright-polish",
   "metadata": {},
   "source": [
    "**Reformat time and date**"
   ]
  },
  {
   "cell_type": "markdown",
   "id": "running-craps",
   "metadata": {},
   "source": [
    "I decided to separate date and time because several data have null value in their time column"
   ]
  },
  {
   "cell_type": "code",
   "execution_count": 11,
   "id": "recognized-dress",
   "metadata": {},
   "outputs": [],
   "source": [
    "temp = df.loc[~df['time'].isna(), 'time'].str.replace(' ', '').str.replace('Z', '').str.replace('c', '0')\n",
    "df.loc[~df['time'].isna(), 'time'] = temp.astype(str).str[0:2] + ':' + temp.astype(str).str[-2:]\n",
    "df['time'] = pd.to_datetime(df['time'],format= '%H:%M',errors='coerce').dt.time\n",
    "df['date'] = pd.to_datetime(df['date'],format= '%B %d, %Y')"
   ]
  },
  {
   "cell_type": "code",
   "execution_count": 12,
   "id": "recovered-kentucky",
   "metadata": {},
   "outputs": [
    {
     "data": {
      "text/html": [
       "<div>\n",
       "<style scoped>\n",
       "    .dataframe tbody tr th:only-of-type {\n",
       "        vertical-align: middle;\n",
       "    }\n",
       "\n",
       "    .dataframe tbody tr th {\n",
       "        vertical-align: top;\n",
       "    }\n",
       "\n",
       "    .dataframe thead th {\n",
       "        text-align: right;\n",
       "    }\n",
       "</style>\n",
       "<table border=\"1\" class=\"dataframe\">\n",
       "  <thead>\n",
       "    <tr style=\"text-align: right;\">\n",
       "      <th></th>\n",
       "      <th>date</th>\n",
       "      <th>time</th>\n",
       "      <th>location</th>\n",
       "      <th>operator</th>\n",
       "      <th>route</th>\n",
       "      <th>ac_type</th>\n",
       "      <th>aboard</th>\n",
       "      <th>fatalities</th>\n",
       "      <th>summary</th>\n",
       "    </tr>\n",
       "  </thead>\n",
       "  <tbody>\n",
       "    <tr>\n",
       "      <th>0</th>\n",
       "      <td>1908-09-17</td>\n",
       "      <td>17:18:00</td>\n",
       "      <td>Fort Myer, Virginia</td>\n",
       "      <td>Military - U.S. Army</td>\n",
       "      <td>Demonstration</td>\n",
       "      <td>Wright Flyer III</td>\n",
       "      <td>2   (passengers:1  crew:1)</td>\n",
       "      <td>1   (passengers:1  crew:0)</td>\n",
       "      <td>During a demonstration flight, a U.S. Army fly...</td>\n",
       "    </tr>\n",
       "    <tr>\n",
       "      <th>1</th>\n",
       "      <td>1909-09-07</td>\n",
       "      <td>NaT</td>\n",
       "      <td>Juvisy-sur-Orge, France</td>\n",
       "      <td>NaN</td>\n",
       "      <td>Air show</td>\n",
       "      <td>Wright Byplane</td>\n",
       "      <td>1   (passengers:0  crew:1)</td>\n",
       "      <td>1   (passengers:0  crew:0)</td>\n",
       "      <td>Eugene Lefebvre was the first pilot to ever be...</td>\n",
       "    </tr>\n",
       "    <tr>\n",
       "      <th>2</th>\n",
       "      <td>1912-07-12</td>\n",
       "      <td>06:30:00</td>\n",
       "      <td>Atlantic City, New Jersey</td>\n",
       "      <td>Military - U.S. Navy</td>\n",
       "      <td>Test flight</td>\n",
       "      <td>Dirigible</td>\n",
       "      <td>5   (passengers:0  crew:5)</td>\n",
       "      <td>5   (passengers:0  crew:5)</td>\n",
       "      <td>First U.S. dirigible Akron exploded just offsh...</td>\n",
       "    </tr>\n",
       "    <tr>\n",
       "      <th>3</th>\n",
       "      <td>1913-08-06</td>\n",
       "      <td>NaT</td>\n",
       "      <td>Victoria, British Columbia, Canada</td>\n",
       "      <td>Private</td>\n",
       "      <td>NaN</td>\n",
       "      <td>Curtiss seaplane</td>\n",
       "      <td>1   (passengers:0  crew:1)</td>\n",
       "      <td>1   (passengers:0  crew:1)</td>\n",
       "      <td>The first fatal airplane accident in Canada oc...</td>\n",
       "    </tr>\n",
       "    <tr>\n",
       "      <th>4</th>\n",
       "      <td>1913-09-09</td>\n",
       "      <td>18:30:00</td>\n",
       "      <td>Over the North Sea</td>\n",
       "      <td>Military - German Navy</td>\n",
       "      <td>NaN</td>\n",
       "      <td>Zeppelin L-1 (airship)</td>\n",
       "      <td>20   (passengers:?  crew:?)</td>\n",
       "      <td>14   (passengers:?  crew:?)</td>\n",
       "      <td>The airship flew into a thunderstorm and encou...</td>\n",
       "    </tr>\n",
       "  </tbody>\n",
       "</table>\n",
       "</div>"
      ],
      "text/plain": [
       "        date      time                            location  \\\n",
       "0 1908-09-17  17:18:00                 Fort Myer, Virginia   \n",
       "1 1909-09-07       NaT             Juvisy-sur-Orge, France   \n",
       "2 1912-07-12  06:30:00           Atlantic City, New Jersey   \n",
       "3 1913-08-06       NaT  Victoria, British Columbia, Canada   \n",
       "4 1913-09-09  18:30:00                  Over the North Sea   \n",
       "\n",
       "                 operator          route                 ac_type  \\\n",
       "0    Military - U.S. Army  Demonstration        Wright Flyer III   \n",
       "1                     NaN       Air show          Wright Byplane   \n",
       "2    Military - U.S. Navy    Test flight               Dirigible   \n",
       "3                 Private            NaN        Curtiss seaplane   \n",
       "4  Military - German Navy            NaN  Zeppelin L-1 (airship)   \n",
       "\n",
       "                        aboard                   fatalities  \\\n",
       "0   2   (passengers:1  crew:1)   1   (passengers:1  crew:0)   \n",
       "1   1   (passengers:0  crew:1)   1   (passengers:0  crew:0)   \n",
       "2   5   (passengers:0  crew:5)   5   (passengers:0  crew:5)   \n",
       "3   1   (passengers:0  crew:1)   1   (passengers:0  crew:1)   \n",
       "4  20   (passengers:?  crew:?)  14   (passengers:?  crew:?)   \n",
       "\n",
       "                                             summary  \n",
       "0  During a demonstration flight, a U.S. Army fly...  \n",
       "1  Eugene Lefebvre was the first pilot to ever be...  \n",
       "2  First U.S. dirigible Akron exploded just offsh...  \n",
       "3  The first fatal airplane accident in Canada oc...  \n",
       "4  The airship flew into a thunderstorm and encou...  "
      ]
     },
     "execution_count": 12,
     "metadata": {},
     "output_type": "execute_result"
    }
   ],
   "source": [
    "df.head()"
   ]
  },
  {
   "cell_type": "markdown",
   "id": "played-bacteria",
   "metadata": {},
   "source": [
    "**Removing the information about the number of passenger and crew (only show the total number)**"
   ]
  },
  {
   "cell_type": "code",
   "execution_count": 13,
   "id": "prime-titanium",
   "metadata": {},
   "outputs": [],
   "source": [
    "df['aboard'] = pd.to_numeric(df['aboard'].str.split(\" \", expand=True)[0], errors='coerce').astype('Int16')\n",
    "df['fatalities'] = pd.to_numeric(df['fatalities'].str.split(\" \", expand=True)[0], errors='coerce').astype('Int16')"
   ]
  },
  {
   "cell_type": "code",
   "execution_count": 14,
   "id": "disturbed-universal",
   "metadata": {},
   "outputs": [
    {
     "data": {
      "text/html": [
       "<div>\n",
       "<style scoped>\n",
       "    .dataframe tbody tr th:only-of-type {\n",
       "        vertical-align: middle;\n",
       "    }\n",
       "\n",
       "    .dataframe tbody tr th {\n",
       "        vertical-align: top;\n",
       "    }\n",
       "\n",
       "    .dataframe thead th {\n",
       "        text-align: right;\n",
       "    }\n",
       "</style>\n",
       "<table border=\"1\" class=\"dataframe\">\n",
       "  <thead>\n",
       "    <tr style=\"text-align: right;\">\n",
       "      <th></th>\n",
       "      <th>date</th>\n",
       "      <th>time</th>\n",
       "      <th>location</th>\n",
       "      <th>operator</th>\n",
       "      <th>route</th>\n",
       "      <th>ac_type</th>\n",
       "      <th>aboard</th>\n",
       "      <th>fatalities</th>\n",
       "      <th>summary</th>\n",
       "    </tr>\n",
       "  </thead>\n",
       "  <tbody>\n",
       "    <tr>\n",
       "      <th>0</th>\n",
       "      <td>1908-09-17</td>\n",
       "      <td>17:18:00</td>\n",
       "      <td>Fort Myer, Virginia</td>\n",
       "      <td>Military - U.S. Army</td>\n",
       "      <td>Demonstration</td>\n",
       "      <td>Wright Flyer III</td>\n",
       "      <td>2</td>\n",
       "      <td>1</td>\n",
       "      <td>During a demonstration flight, a U.S. Army fly...</td>\n",
       "    </tr>\n",
       "    <tr>\n",
       "      <th>1</th>\n",
       "      <td>1909-09-07</td>\n",
       "      <td>NaT</td>\n",
       "      <td>Juvisy-sur-Orge, France</td>\n",
       "      <td>NaN</td>\n",
       "      <td>Air show</td>\n",
       "      <td>Wright Byplane</td>\n",
       "      <td>1</td>\n",
       "      <td>1</td>\n",
       "      <td>Eugene Lefebvre was the first pilot to ever be...</td>\n",
       "    </tr>\n",
       "    <tr>\n",
       "      <th>2</th>\n",
       "      <td>1912-07-12</td>\n",
       "      <td>06:30:00</td>\n",
       "      <td>Atlantic City, New Jersey</td>\n",
       "      <td>Military - U.S. Navy</td>\n",
       "      <td>Test flight</td>\n",
       "      <td>Dirigible</td>\n",
       "      <td>5</td>\n",
       "      <td>5</td>\n",
       "      <td>First U.S. dirigible Akron exploded just offsh...</td>\n",
       "    </tr>\n",
       "    <tr>\n",
       "      <th>3</th>\n",
       "      <td>1913-08-06</td>\n",
       "      <td>NaT</td>\n",
       "      <td>Victoria, British Columbia, Canada</td>\n",
       "      <td>Private</td>\n",
       "      <td>NaN</td>\n",
       "      <td>Curtiss seaplane</td>\n",
       "      <td>1</td>\n",
       "      <td>1</td>\n",
       "      <td>The first fatal airplane accident in Canada oc...</td>\n",
       "    </tr>\n",
       "    <tr>\n",
       "      <th>4</th>\n",
       "      <td>1913-09-09</td>\n",
       "      <td>18:30:00</td>\n",
       "      <td>Over the North Sea</td>\n",
       "      <td>Military - German Navy</td>\n",
       "      <td>NaN</td>\n",
       "      <td>Zeppelin L-1 (airship)</td>\n",
       "      <td>20</td>\n",
       "      <td>14</td>\n",
       "      <td>The airship flew into a thunderstorm and encou...</td>\n",
       "    </tr>\n",
       "  </tbody>\n",
       "</table>\n",
       "</div>"
      ],
      "text/plain": [
       "        date      time                            location  \\\n",
       "0 1908-09-17  17:18:00                 Fort Myer, Virginia   \n",
       "1 1909-09-07       NaT             Juvisy-sur-Orge, France   \n",
       "2 1912-07-12  06:30:00           Atlantic City, New Jersey   \n",
       "3 1913-08-06       NaT  Victoria, British Columbia, Canada   \n",
       "4 1913-09-09  18:30:00                  Over the North Sea   \n",
       "\n",
       "                 operator          route                 ac_type  aboard  \\\n",
       "0    Military - U.S. Army  Demonstration        Wright Flyer III       2   \n",
       "1                     NaN       Air show          Wright Byplane       1   \n",
       "2    Military - U.S. Navy    Test flight               Dirigible       5   \n",
       "3                 Private            NaN        Curtiss seaplane       1   \n",
       "4  Military - German Navy            NaN  Zeppelin L-1 (airship)      20   \n",
       "\n",
       "   fatalities                                            summary  \n",
       "0           1  During a demonstration flight, a U.S. Army fly...  \n",
       "1           1  Eugene Lefebvre was the first pilot to ever be...  \n",
       "2           5  First U.S. dirigible Akron exploded just offsh...  \n",
       "3           1  The first fatal airplane accident in Canada oc...  \n",
       "4          14  The airship flew into a thunderstorm and encou...  "
      ]
     },
     "execution_count": 14,
     "metadata": {},
     "output_type": "execute_result"
    }
   ],
   "source": [
    "df.head()"
   ]
  },
  {
   "cell_type": "markdown",
   "id": "electronic-reverse",
   "metadata": {},
   "source": [
    "**Split the specific location and country Location**"
   ]
  },
  {
   "cell_type": "code",
   "execution_count": 15,
   "id": "valuable-circumstances",
   "metadata": {},
   "outputs": [],
   "source": [
    "temp = df['location'].str.rsplit(', ', n=1, expand=True)\n",
    "df['country_loc'] = temp[1]\n",
    "df['specific_loc'] = temp[0]\n",
    "df.drop(columns='location', inplace=True)"
   ]
  },
  {
   "cell_type": "code",
   "execution_count": 16,
   "id": "minute-worst",
   "metadata": {},
   "outputs": [
    {
     "data": {
      "text/html": [
       "<div>\n",
       "<style scoped>\n",
       "    .dataframe tbody tr th:only-of-type {\n",
       "        vertical-align: middle;\n",
       "    }\n",
       "\n",
       "    .dataframe tbody tr th {\n",
       "        vertical-align: top;\n",
       "    }\n",
       "\n",
       "    .dataframe thead th {\n",
       "        text-align: right;\n",
       "    }\n",
       "</style>\n",
       "<table border=\"1\" class=\"dataframe\">\n",
       "  <thead>\n",
       "    <tr style=\"text-align: right;\">\n",
       "      <th></th>\n",
       "      <th>date</th>\n",
       "      <th>time</th>\n",
       "      <th>operator</th>\n",
       "      <th>route</th>\n",
       "      <th>ac_type</th>\n",
       "      <th>aboard</th>\n",
       "      <th>fatalities</th>\n",
       "      <th>summary</th>\n",
       "      <th>country_loc</th>\n",
       "      <th>specific_loc</th>\n",
       "    </tr>\n",
       "  </thead>\n",
       "  <tbody>\n",
       "    <tr>\n",
       "      <th>0</th>\n",
       "      <td>1908-09-17</td>\n",
       "      <td>17:18:00</td>\n",
       "      <td>Military - U.S. Army</td>\n",
       "      <td>Demonstration</td>\n",
       "      <td>Wright Flyer III</td>\n",
       "      <td>2</td>\n",
       "      <td>1</td>\n",
       "      <td>During a demonstration flight, a U.S. Army fly...</td>\n",
       "      <td>Virginia</td>\n",
       "      <td>Fort Myer</td>\n",
       "    </tr>\n",
       "    <tr>\n",
       "      <th>1</th>\n",
       "      <td>1909-09-07</td>\n",
       "      <td>NaT</td>\n",
       "      <td>NaN</td>\n",
       "      <td>Air show</td>\n",
       "      <td>Wright Byplane</td>\n",
       "      <td>1</td>\n",
       "      <td>1</td>\n",
       "      <td>Eugene Lefebvre was the first pilot to ever be...</td>\n",
       "      <td>France</td>\n",
       "      <td>Juvisy-sur-Orge</td>\n",
       "    </tr>\n",
       "    <tr>\n",
       "      <th>2</th>\n",
       "      <td>1912-07-12</td>\n",
       "      <td>06:30:00</td>\n",
       "      <td>Military - U.S. Navy</td>\n",
       "      <td>Test flight</td>\n",
       "      <td>Dirigible</td>\n",
       "      <td>5</td>\n",
       "      <td>5</td>\n",
       "      <td>First U.S. dirigible Akron exploded just offsh...</td>\n",
       "      <td>New Jersey</td>\n",
       "      <td>Atlantic City</td>\n",
       "    </tr>\n",
       "    <tr>\n",
       "      <th>3</th>\n",
       "      <td>1913-08-06</td>\n",
       "      <td>NaT</td>\n",
       "      <td>Private</td>\n",
       "      <td>NaN</td>\n",
       "      <td>Curtiss seaplane</td>\n",
       "      <td>1</td>\n",
       "      <td>1</td>\n",
       "      <td>The first fatal airplane accident in Canada oc...</td>\n",
       "      <td>Canada</td>\n",
       "      <td>Victoria, British Columbia</td>\n",
       "    </tr>\n",
       "    <tr>\n",
       "      <th>4</th>\n",
       "      <td>1913-09-09</td>\n",
       "      <td>18:30:00</td>\n",
       "      <td>Military - German Navy</td>\n",
       "      <td>NaN</td>\n",
       "      <td>Zeppelin L-1 (airship)</td>\n",
       "      <td>20</td>\n",
       "      <td>14</td>\n",
       "      <td>The airship flew into a thunderstorm and encou...</td>\n",
       "      <td>None</td>\n",
       "      <td>Over the North Sea</td>\n",
       "    </tr>\n",
       "  </tbody>\n",
       "</table>\n",
       "</div>"
      ],
      "text/plain": [
       "        date      time                operator          route  \\\n",
       "0 1908-09-17  17:18:00    Military - U.S. Army  Demonstration   \n",
       "1 1909-09-07       NaT                     NaN       Air show   \n",
       "2 1912-07-12  06:30:00    Military - U.S. Navy    Test flight   \n",
       "3 1913-08-06       NaT                 Private            NaN   \n",
       "4 1913-09-09  18:30:00  Military - German Navy            NaN   \n",
       "\n",
       "                  ac_type  aboard  fatalities  \\\n",
       "0        Wright Flyer III       2           1   \n",
       "1          Wright Byplane       1           1   \n",
       "2               Dirigible       5           5   \n",
       "3        Curtiss seaplane       1           1   \n",
       "4  Zeppelin L-1 (airship)      20          14   \n",
       "\n",
       "                                             summary country_loc  \\\n",
       "0  During a demonstration flight, a U.S. Army fly...    Virginia   \n",
       "1  Eugene Lefebvre was the first pilot to ever be...      France   \n",
       "2  First U.S. dirigible Akron exploded just offsh...  New Jersey   \n",
       "3  The first fatal airplane accident in Canada oc...      Canada   \n",
       "4  The airship flew into a thunderstorm and encou...        None   \n",
       "\n",
       "                 specific_loc  \n",
       "0                   Fort Myer  \n",
       "1             Juvisy-sur-Orge  \n",
       "2               Atlantic City  \n",
       "3  Victoria, British Columbia  \n",
       "4          Over the North Sea  "
      ]
     },
     "execution_count": 16,
     "metadata": {},
     "output_type": "execute_result"
    }
   ],
   "source": [
    "df.head()"
   ]
  },
  {
   "cell_type": "markdown",
   "id": "timely-chapel",
   "metadata": {},
   "source": [
    "**Fixing the country locations data that contain the name of US states, not the US itself (Ex: Virginia is in the country_loc column)**"
   ]
  },
  {
   "cell_type": "markdown",
   "id": "simple-juvenile",
   "metadata": {},
   "source": [
    "Erasing whitespaces first"
   ]
  },
  {
   "cell_type": "code",
   "execution_count": 17,
   "id": "according-traffic",
   "metadata": {
    "tags": []
   },
   "outputs": [],
   "source": [
    "df.loc[df['country_loc'].str[0] == ' ', 'country_loc'] = df.loc[df['country_loc'].str[0] == ' ', 'country_loc'].str[1:]"
   ]
  },
  {
   "cell_type": "markdown",
   "id": "objective-batman",
   "metadata": {},
   "source": [
    "Web-scraping US states names from Wikipedia"
   ]
  },
  {
   "cell_type": "code",
   "execution_count": 18,
   "id": "naughty-essay",
   "metadata": {
    "tags": []
   },
   "outputs": [
    {
     "data": {
      "text/plain": [
       "['Alabama', 'Alaska', 'Arizona', 'Arkansas', 'California']"
      ]
     },
     "execution_count": 18,
     "metadata": {},
     "output_type": "execute_result"
    }
   ],
   "source": [
    "states = []\n",
    "tab = getHTMLContent('https://en.wikipedia.org/wiki/List_of_states_and_territories_of_the_United_States').find_all('table')[1].find_all('tr')\n",
    "\n",
    "for row in range(2, len(tab)):\n",
    "    states.append(tab[row].find_all('th')[0].text[1:-1])\n",
    "states.append('Washington D.C.')\n",
    "\n",
    "states = pd.Series(states)\n",
    "states = states.str.replace('\\[D\\]', '').to_list()\n",
    "states[:5]"
   ]
  },
  {
   "cell_type": "code",
   "execution_count": 19,
   "id": "bigger-oakland",
   "metadata": {
    "tags": []
   },
   "outputs": [],
   "source": [
    "temp = df.loc[df['country_loc'].isin(states)].index\n",
    "df['specific_loc'].iloc[temp] += ', ' + df['country_loc'].iloc[temp]\n",
    "df['country_loc'].iloc[temp] = 'United States'"
   ]
  },
  {
   "cell_type": "code",
   "execution_count": 20,
   "id": "banned-covering",
   "metadata": {},
   "outputs": [
    {
     "data": {
      "text/html": [
       "<div>\n",
       "<style scoped>\n",
       "    .dataframe tbody tr th:only-of-type {\n",
       "        vertical-align: middle;\n",
       "    }\n",
       "\n",
       "    .dataframe tbody tr th {\n",
       "        vertical-align: top;\n",
       "    }\n",
       "\n",
       "    .dataframe thead th {\n",
       "        text-align: right;\n",
       "    }\n",
       "</style>\n",
       "<table border=\"1\" class=\"dataframe\">\n",
       "  <thead>\n",
       "    <tr style=\"text-align: right;\">\n",
       "      <th></th>\n",
       "      <th>date</th>\n",
       "      <th>time</th>\n",
       "      <th>operator</th>\n",
       "      <th>route</th>\n",
       "      <th>ac_type</th>\n",
       "      <th>aboard</th>\n",
       "      <th>fatalities</th>\n",
       "      <th>summary</th>\n",
       "      <th>country_loc</th>\n",
       "      <th>specific_loc</th>\n",
       "    </tr>\n",
       "  </thead>\n",
       "  <tbody>\n",
       "    <tr>\n",
       "      <th>0</th>\n",
       "      <td>1908-09-17</td>\n",
       "      <td>17:18:00</td>\n",
       "      <td>Military - U.S. Army</td>\n",
       "      <td>Demonstration</td>\n",
       "      <td>Wright Flyer III</td>\n",
       "      <td>2</td>\n",
       "      <td>1</td>\n",
       "      <td>During a demonstration flight, a U.S. Army fly...</td>\n",
       "      <td>United States</td>\n",
       "      <td>Fort Myer, Virginia</td>\n",
       "    </tr>\n",
       "    <tr>\n",
       "      <th>2</th>\n",
       "      <td>1912-07-12</td>\n",
       "      <td>06:30:00</td>\n",
       "      <td>Military - U.S. Navy</td>\n",
       "      <td>Test flight</td>\n",
       "      <td>Dirigible</td>\n",
       "      <td>5</td>\n",
       "      <td>5</td>\n",
       "      <td>First U.S. dirigible Akron exploded just offsh...</td>\n",
       "      <td>United States</td>\n",
       "      <td>Atlantic City, New Jersey</td>\n",
       "    </tr>\n",
       "    <tr>\n",
       "      <th>23</th>\n",
       "      <td>1918-12-16</td>\n",
       "      <td>NaT</td>\n",
       "      <td>US Aerial Mail Service</td>\n",
       "      <td>NaN</td>\n",
       "      <td>De Havilland DH-4</td>\n",
       "      <td>1</td>\n",
       "      <td>1</td>\n",
       "      <td>Carl Smith was killed when his mail plane feet...</td>\n",
       "      <td>United States</td>\n",
       "      <td>Elizabeth, New Jersey</td>\n",
       "    </tr>\n",
       "    <tr>\n",
       "      <th>24</th>\n",
       "      <td>1919-05-25</td>\n",
       "      <td>NaT</td>\n",
       "      <td>US Aerial Mail Service</td>\n",
       "      <td>NaN</td>\n",
       "      <td>De Havilland DH-4</td>\n",
       "      <td>1</td>\n",
       "      <td>1</td>\n",
       "      <td>Caught fire in midair. The pilot leaped from t...</td>\n",
       "      <td>United States</td>\n",
       "      <td>Cleveland, Ohio</td>\n",
       "    </tr>\n",
       "    <tr>\n",
       "      <th>25</th>\n",
       "      <td>1919-07-19</td>\n",
       "      <td>NaT</td>\n",
       "      <td>US Aerial Mail Service</td>\n",
       "      <td>NaN</td>\n",
       "      <td>De Havilland DH-4</td>\n",
       "      <td>1</td>\n",
       "      <td>1</td>\n",
       "      <td>The mail plane crashed under unknown circumsta...</td>\n",
       "      <td>United States</td>\n",
       "      <td>Dix Run, Pennsylvania</td>\n",
       "    </tr>\n",
       "  </tbody>\n",
       "</table>\n",
       "</div>"
      ],
      "text/plain": [
       "         date      time                operator          route  \\\n",
       "0  1908-09-17  17:18:00    Military - U.S. Army  Demonstration   \n",
       "2  1912-07-12  06:30:00    Military - U.S. Navy    Test flight   \n",
       "23 1918-12-16       NaT  US Aerial Mail Service            NaN   \n",
       "24 1919-05-25       NaT  US Aerial Mail Service            NaN   \n",
       "25 1919-07-19       NaT  US Aerial Mail Service            NaN   \n",
       "\n",
       "              ac_type  aboard  fatalities  \\\n",
       "0    Wright Flyer III       2           1   \n",
       "2           Dirigible       5           5   \n",
       "23  De Havilland DH-4       1           1   \n",
       "24  De Havilland DH-4       1           1   \n",
       "25  De Havilland DH-4       1           1   \n",
       "\n",
       "                                              summary    country_loc  \\\n",
       "0   During a demonstration flight, a U.S. Army fly...  United States   \n",
       "2   First U.S. dirigible Akron exploded just offsh...  United States   \n",
       "23  Carl Smith was killed when his mail plane feet...  United States   \n",
       "24  Caught fire in midair. The pilot leaped from t...  United States   \n",
       "25  The mail plane crashed under unknown circumsta...  United States   \n",
       "\n",
       "                 specific_loc  \n",
       "0         Fort Myer, Virginia  \n",
       "2   Atlantic City, New Jersey  \n",
       "23      Elizabeth, New Jersey  \n",
       "24            Cleveland, Ohio  \n",
       "25      Dix Run, Pennsylvania  "
      ]
     },
     "execution_count": 20,
     "metadata": {},
     "output_type": "execute_result"
    }
   ],
   "source": [
    "df.iloc[temp].head()"
   ]
  },
  {
   "cell_type": "markdown",
   "id": "practical-spoke",
   "metadata": {},
   "source": [
    "**Doing it for the UK countries too**"
   ]
  },
  {
   "cell_type": "code",
   "execution_count": 21,
   "id": "electoral-geography",
   "metadata": {},
   "outputs": [],
   "source": [
    "uk_states = ['England', 'Scotland', 'Wales', 'Nothern Ireland']\n",
    "df.loc[df['country_loc'].isin(uk_states), 'country_loc'] = 'United Kingdom'"
   ]
  },
  {
   "cell_type": "markdown",
   "id": "broadband-minneapolis",
   "metadata": {},
   "source": [
    "**Cleaning other uncleaned names (typo, unofficial names, former countries, etc.)**"
   ]
  },
  {
   "cell_type": "markdown",
   "id": "acoustic-integral",
   "metadata": {},
   "source": [
    "Web-scraping official country names from Worldometers, with some additions of unofficial names that appear frequently in the dataset"
   ]
  },
  {
   "cell_type": "code",
   "execution_count": 22,
   "id": "creative-canada",
   "metadata": {},
   "outputs": [
    {
     "data": {
      "text/plain": [
       "['Afghanistan', 'Albania', 'Algeria', 'Andorra', 'Angola']"
      ]
     },
     "execution_count": 22,
     "metadata": {},
     "output_type": "execute_result"
    }
   ],
   "source": [
    "countries = []\n",
    "tab = getHTMLContent('https://www.worldometers.info/geography/alphabetical-list-of-countries/').find_all('table')[0].find_all('tr')\n",
    "\n",
    "for row in range(1, len(tab)):\n",
    "    countries.append(tab[row].find_all('td')[1].text)\n",
    "\n",
    "countries.extend(['Taiwan', 'Hong Kong', 'United States', 'Congo', 'Democratic Republic Congo', 'Czech Republic', 'Eswatini', 'Myanmar', 'Bosnia-Herzegovina', 'Puerto Rico', 'Greenland', 'Macedonia'])\n",
    "\n",
    "countries[:5]"
   ]
  },
  {
   "cell_type": "markdown",
   "id": "traditional-agreement",
   "metadata": {},
   "source": [
    "Checking the number of names that are not in the above list"
   ]
  },
  {
   "cell_type": "code",
   "execution_count": 23,
   "id": "radical-miniature",
   "metadata": {},
   "outputs": [
    {
     "data": {
      "text/plain": [
       "USSR              68\n",
       "South Vietnam     40\n",
       "New Guinea        19\n",
       "Czechoslovakia    14\n",
       "Yugoslavia        13\n",
       "Burma             13\n",
       "Newfoundland      11\n",
       "Zaire             11\n",
       "West Germany       8\n",
       "Virgin Islands     6\n",
       "Name: country_loc, dtype: int64"
      ]
     },
     "execution_count": 23,
     "metadata": {},
     "output_type": "execute_result"
    }
   ],
   "source": [
    "df.loc[(~df['country_loc'].isin(countries)) & (df['country_loc'].notna()), 'country_loc'].value_counts().head(10)"
   ]
  },
  {
   "cell_type": "markdown",
   "id": "human-child",
   "metadata": {},
   "source": [
    "Replacing the names if they're a part of a bigger country in present times"
   ]
  },
  {
   "cell_type": "code",
   "execution_count": 24,
   "id": "ranging-october",
   "metadata": {},
   "outputs": [],
   "source": [
    "df['country_loc'].replace({'South Vietnam':'Vietnam', 'Burma':'Myanmar','Newfoundland':'Canada','West Germany':'Germany', 'New Guinea':'Papua New Guinea', 'Zaire':'Democratic Republic Congo'}, inplace=True)"
   ]
  },
  {
   "cell_type": "markdown",
   "id": "challenging-positive",
   "metadata": {},
   "source": [
    "Replacing the USSR with its Post-Soviet country location name"
   ]
  },
  {
   "cell_type": "code",
   "execution_count": 25,
   "id": "competitive-presentation",
   "metadata": {},
   "outputs": [],
   "source": [
    "index = df.loc[(df['country_loc'] == 'USSR') & (df['specific_loc'].str.contains(',')), 'specific_loc'].index\n",
    "temp = df.loc[index, 'specific_loc'].str.rsplit(', ', n=1, expand=True)\n",
    "df.loc[index, 'specific_loc'] = temp[0]\n",
    "df.loc[index, 'country_loc'] = temp[1]"
   ]
  },
  {
   "cell_type": "markdown",
   "id": "floppy-drinking",
   "metadata": {},
   "source": [
    "Assuming it's Russia if its Post-Soviet name doesn't exist"
   ]
  },
  {
   "cell_type": "code",
   "execution_count": 26,
   "id": "stretch-driving",
   "metadata": {},
   "outputs": [],
   "source": [
    "df.loc[df['country_loc'] == 'USSR', 'country_loc'] = 'Russia'"
   ]
  },
  {
   "cell_type": "code",
   "execution_count": 27,
   "id": "visible-sucking",
   "metadata": {},
   "outputs": [
    {
     "data": {
      "text/html": [
       "<div>\n",
       "<style scoped>\n",
       "    .dataframe tbody tr th:only-of-type {\n",
       "        vertical-align: middle;\n",
       "    }\n",
       "\n",
       "    .dataframe tbody tr th {\n",
       "        vertical-align: top;\n",
       "    }\n",
       "\n",
       "    .dataframe thead th {\n",
       "        text-align: right;\n",
       "    }\n",
       "</style>\n",
       "<table border=\"1\" class=\"dataframe\">\n",
       "  <thead>\n",
       "    <tr style=\"text-align: right;\">\n",
       "      <th></th>\n",
       "      <th>date</th>\n",
       "      <th>time</th>\n",
       "      <th>operator</th>\n",
       "      <th>route</th>\n",
       "      <th>ac_type</th>\n",
       "      <th>aboard</th>\n",
       "      <th>fatalities</th>\n",
       "      <th>summary</th>\n",
       "      <th>country_loc</th>\n",
       "      <th>specific_loc</th>\n",
       "    </tr>\n",
       "  </thead>\n",
       "  <tbody>\n",
       "    <tr>\n",
       "      <th>96</th>\n",
       "      <td>1925-03-22</td>\n",
       "      <td>NaT</td>\n",
       "      <td>Zakavia</td>\n",
       "      <td>Tiflis - Suchumi</td>\n",
       "      <td>Junkers F-13</td>\n",
       "      <td>5</td>\n",
       "      <td>5</td>\n",
       "      <td>Shortly after take off the plane went out of c...</td>\n",
       "      <td>Georgia</td>\n",
       "      <td>Near Tiflis</td>\n",
       "    </tr>\n",
       "    <tr>\n",
       "      <th>326</th>\n",
       "      <td>1933-11-21</td>\n",
       "      <td>15:00:00</td>\n",
       "      <td>Kalinin</td>\n",
       "      <td>Test flight</td>\n",
       "      <td>Kalinin K-7</td>\n",
       "      <td>20</td>\n",
       "      <td>14</td>\n",
       "      <td>Crashed due to structural failure during a tes...</td>\n",
       "      <td>Ukraine</td>\n",
       "      <td>Near Kharkov</td>\n",
       "    </tr>\n",
       "    <tr>\n",
       "      <th>1071</th>\n",
       "      <td>1948-10-12</td>\n",
       "      <td>13:00:00</td>\n",
       "      <td>Aeroflot</td>\n",
       "      <td>Tashkent - Baku - Tbilisi - Sochi</td>\n",
       "      <td>Ilyushin Il12</td>\n",
       "      <td>10</td>\n",
       "      <td>10</td>\n",
       "      <td>Crashed after turning back towards its point o...</td>\n",
       "      <td>Azerbaijan</td>\n",
       "      <td>Near Yevlakh</td>\n",
       "    </tr>\n",
       "    <tr>\n",
       "      <th>1799</th>\n",
       "      <td>1959-11-16</td>\n",
       "      <td>19:06:00</td>\n",
       "      <td>Aeroflot</td>\n",
       "      <td>Moscow - Kiev - Lvov</td>\n",
       "      <td>Antonov AN-10</td>\n",
       "      <td>40</td>\n",
       "      <td>40</td>\n",
       "      <td>Loss of control in icing conditions when the f...</td>\n",
       "      <td>Ukraine</td>\n",
       "      <td>Lvov</td>\n",
       "    </tr>\n",
       "    <tr>\n",
       "      <th>1805</th>\n",
       "      <td>1959-12-13</td>\n",
       "      <td>09:28:00</td>\n",
       "      <td>Aeroflot</td>\n",
       "      <td>Kabul - Tashkent</td>\n",
       "      <td>Ilyushin IL-18</td>\n",
       "      <td>29</td>\n",
       "      <td>29</td>\n",
       "      <td>Crashed into a mountain while en route. Crew e...</td>\n",
       "      <td>Uzbekistan</td>\n",
       "      <td>Near Tashkent</td>\n",
       "    </tr>\n",
       "  </tbody>\n",
       "</table>\n",
       "</div>"
      ],
      "text/plain": [
       "           date      time  operator                               route  \\\n",
       "96   1925-03-22       NaT   Zakavia                    Tiflis - Suchumi   \n",
       "326  1933-11-21  15:00:00   Kalinin                         Test flight   \n",
       "1071 1948-10-12  13:00:00  Aeroflot   Tashkent - Baku - Tbilisi - Sochi   \n",
       "1799 1959-11-16  19:06:00  Aeroflot                Moscow - Kiev - Lvov   \n",
       "1805 1959-12-13  09:28:00  Aeroflot                    Kabul - Tashkent   \n",
       "\n",
       "             ac_type  aboard  fatalities  \\\n",
       "96      Junkers F-13       5           5   \n",
       "326      Kalinin K-7      20          14   \n",
       "1071   Ilyushin Il12      10          10   \n",
       "1799   Antonov AN-10      40          40   \n",
       "1805  Ilyushin IL-18      29          29   \n",
       "\n",
       "                                                summary country_loc  \\\n",
       "96    Shortly after take off the plane went out of c...     Georgia   \n",
       "326   Crashed due to structural failure during a tes...     Ukraine   \n",
       "1071  Crashed after turning back towards its point o...  Azerbaijan   \n",
       "1799  Loss of control in icing conditions when the f...     Ukraine   \n",
       "1805  Crashed into a mountain while en route. Crew e...  Uzbekistan   \n",
       "\n",
       "       specific_loc  \n",
       "96      Near Tiflis  \n",
       "326    Near Kharkov  \n",
       "1071   Near Yevlakh  \n",
       "1799           Lvov  \n",
       "1805  Near Tashkent  "
      ]
     },
     "execution_count": 27,
     "metadata": {},
     "output_type": "execute_result"
    }
   ],
   "source": [
    "df.loc[index].head()"
   ]
  },
  {
   "cell_type": "markdown",
   "id": "structural-beverage",
   "metadata": {},
   "source": [
    "The remainings need to be replaced manually. I didn't do it because the numbers for each country are not significant for a global analysis"
   ]
  },
  {
   "cell_type": "code",
   "execution_count": 28,
   "id": "signal-niagara",
   "metadata": {},
   "outputs": [
    {
     "data": {
      "text/plain": [
       "Czechoslovakia          14\n",
       "Yugoslavia              13\n",
       "Virgin Islands           6\n",
       "Ivory Coast              5\n",
       "North Sea                5\n",
       "Canary Islands           5\n",
       "Okinawa                  5\n",
       "The Netherlands          4\n",
       "Netherlands Antilles     4\n",
       "Azores                   4\n",
       "Name: country_loc, dtype: int64"
      ]
     },
     "execution_count": 28,
     "metadata": {},
     "output_type": "execute_result"
    }
   ],
   "source": [
    "df.loc[(~df['country_loc'].isin(countries)) & (df['country_loc'].notna()), 'country_loc'].value_counts().head(10)"
   ]
  },
  {
   "cell_type": "markdown",
   "id": "expired-continent",
   "metadata": {},
   "source": [
    "***"
   ]
  },
  {
   "cell_type": "markdown",
   "id": "divided-parts",
   "metadata": {},
   "source": [
    "# **Data Exploration**"
   ]
  },
  {
   "cell_type": "markdown",
   "id": "realistic-literature",
   "metadata": {},
   "source": [
    "**Saving a backup for the cleaned data (only once)**"
   ]
  },
  {
   "cell_type": "code",
   "execution_count": 29,
   "id": "unlikely-processing",
   "metadata": {},
   "outputs": [],
   "source": [
    "df_cleaned = df.copy()"
   ]
  },
  {
   "cell_type": "markdown",
   "id": "single-rubber",
   "metadata": {},
   "source": [
    "**Setting the date range that I'm interested in**"
   ]
  },
  {
   "cell_type": "markdown",
   "id": "seventh-length",
   "metadata": {},
   "source": [
    "For example, from the year 1920 until 2019"
   ]
  },
  {
   "cell_type": "code",
   "execution_count": 30,
   "id": "induced-denver",
   "metadata": {},
   "outputs": [
    {
     "data": {
      "text/plain": [
       "4997"
      ]
     },
     "execution_count": 30,
     "metadata": {},
     "output_type": "execute_result"
    }
   ],
   "source": [
    "date_start = datetime.date(1920, 1, 1)\n",
    "date_end = datetime.date(2019,12,31)\n",
    "df = df_cleaned.loc[(df_cleaned['date'].dt.date >= date_start) & (df_cleaned['date'].dt.date <= date_end)].copy()\n",
    "len(df)"
   ]
  },
  {
   "cell_type": "markdown",
   "id": "innovative-bouquet",
   "metadata": {},
   "source": [
    "### The most deadly accidents"
   ]
  },
  {
   "cell_type": "code",
   "execution_count": 31,
   "id": "expanded-honor",
   "metadata": {},
   "outputs": [
    {
     "data": {
      "text/html": [
       "<div>\n",
       "<style scoped>\n",
       "    .dataframe tbody tr th:only-of-type {\n",
       "        vertical-align: middle;\n",
       "    }\n",
       "\n",
       "    .dataframe tbody tr th {\n",
       "        vertical-align: top;\n",
       "    }\n",
       "\n",
       "    .dataframe thead th {\n",
       "        text-align: right;\n",
       "    }\n",
       "</style>\n",
       "<table border=\"1\" class=\"dataframe\">\n",
       "  <thead>\n",
       "    <tr style=\"text-align: right;\">\n",
       "      <th></th>\n",
       "      <th>date</th>\n",
       "      <th>time</th>\n",
       "      <th>operator</th>\n",
       "      <th>route</th>\n",
       "      <th>ac_type</th>\n",
       "      <th>aboard</th>\n",
       "      <th>fatalities</th>\n",
       "      <th>summary</th>\n",
       "      <th>country_loc</th>\n",
       "      <th>specific_loc</th>\n",
       "    </tr>\n",
       "  </thead>\n",
       "  <tbody>\n",
       "    <tr>\n",
       "      <th>2908</th>\n",
       "      <td>1977-03-27</td>\n",
       "      <td>17:07:00</td>\n",
       "      <td>Pan American World Airways / KLM</td>\n",
       "      <td>Tenerife - Las Palmas / Tenerife - Las Palmas</td>\n",
       "      <td>Boeing B-747-121 / Boeing B-747-206B</td>\n",
       "      <td>644</td>\n",
       "      <td>583</td>\n",
       "      <td>Both aircraft were diverted to Tenerife becaus...</td>\n",
       "      <td>Canary Islands</td>\n",
       "      <td>Tenerife</td>\n",
       "    </tr>\n",
       "    <tr>\n",
       "      <th>3347</th>\n",
       "      <td>1985-08-12</td>\n",
       "      <td>18:56:00</td>\n",
       "      <td>Japan Air Lines</td>\n",
       "      <td>Tokyo - Osaka</td>\n",
       "      <td>Boeing B-747-SR46</td>\n",
       "      <td>524</td>\n",
       "      <td>520</td>\n",
       "      <td>The aircraft suffered an aft pressure bulkhead...</td>\n",
       "      <td>Japan</td>\n",
       "      <td>Mt. Osutaka, near Ueno Village</td>\n",
       "    </tr>\n",
       "    <tr>\n",
       "      <th>4082</th>\n",
       "      <td>1996-11-12</td>\n",
       "      <td>18:40:00</td>\n",
       "      <td>Saudi Arabian Airlines / Kazakhstan Airlines</td>\n",
       "      <td>New Delhi - Dhahran / Chimkent - New Delhi</td>\n",
       "      <td>Boeing B-747-168B / Ilyushin IL-76TD</td>\n",
       "      <td>349</td>\n",
       "      <td>349</td>\n",
       "      <td>Midair collision 17 km W of New Delhi.  The Sa...</td>\n",
       "      <td>India</td>\n",
       "      <td>Near Charkhi Dadri</td>\n",
       "    </tr>\n",
       "    <tr>\n",
       "      <th>2743</th>\n",
       "      <td>1974-03-03</td>\n",
       "      <td>11:41:00</td>\n",
       "      <td>Turkish Airlines (THY)</td>\n",
       "      <td>Paris - London</td>\n",
       "      <td>McDonnell Douglas DC-10-10</td>\n",
       "      <td>346</td>\n",
       "      <td>346</td>\n",
       "      <td>The aircraft crashed shortly after takeoff fro...</td>\n",
       "      <td>France</td>\n",
       "      <td>Near Ermenonville</td>\n",
       "    </tr>\n",
       "    <tr>\n",
       "      <th>3343</th>\n",
       "      <td>1985-06-23</td>\n",
       "      <td>07:15:00</td>\n",
       "      <td>Air India</td>\n",
       "      <td>Montreal - London</td>\n",
       "      <td>Boeing B-747-237B</td>\n",
       "      <td>329</td>\n",
       "      <td>329</td>\n",
       "      <td>The aircraft broke up in flight and crashed in...</td>\n",
       "      <td>110 miles West of Ireland</td>\n",
       "      <td>Atlantic Ocean</td>\n",
       "    </tr>\n",
       "  </tbody>\n",
       "</table>\n",
       "</div>"
      ],
      "text/plain": [
       "           date      time                                      operator  \\\n",
       "2908 1977-03-27  17:07:00              Pan American World Airways / KLM   \n",
       "3347 1985-08-12  18:56:00                               Japan Air Lines   \n",
       "4082 1996-11-12  18:40:00  Saudi Arabian Airlines / Kazakhstan Airlines   \n",
       "2743 1974-03-03  11:41:00                        Turkish Airlines (THY)   \n",
       "3343 1985-06-23  07:15:00                                     Air India   \n",
       "\n",
       "                                              route  \\\n",
       "2908  Tenerife - Las Palmas / Tenerife - Las Palmas   \n",
       "3347                                  Tokyo - Osaka   \n",
       "4082     New Delhi - Dhahran / Chimkent - New Delhi   \n",
       "2743                                 Paris - London   \n",
       "3343                              Montreal - London   \n",
       "\n",
       "                                   ac_type  aboard  fatalities  \\\n",
       "2908  Boeing B-747-121 / Boeing B-747-206B     644         583   \n",
       "3347                     Boeing B-747-SR46     524         520   \n",
       "4082  Boeing B-747-168B / Ilyushin IL-76TD     349         349   \n",
       "2743            McDonnell Douglas DC-10-10     346         346   \n",
       "3343                     Boeing B-747-237B     329         329   \n",
       "\n",
       "                                                summary  \\\n",
       "2908  Both aircraft were diverted to Tenerife becaus...   \n",
       "3347  The aircraft suffered an aft pressure bulkhead...   \n",
       "4082  Midair collision 17 km W of New Delhi.  The Sa...   \n",
       "2743  The aircraft crashed shortly after takeoff fro...   \n",
       "3343  The aircraft broke up in flight and crashed in...   \n",
       "\n",
       "                    country_loc                    specific_loc  \n",
       "2908             Canary Islands                        Tenerife  \n",
       "3347                      Japan  Mt. Osutaka, near Ueno Village  \n",
       "4082                      India              Near Charkhi Dadri  \n",
       "2743                     France               Near Ermenonville  \n",
       "3343  110 miles West of Ireland                  Atlantic Ocean  "
      ]
     },
     "execution_count": 31,
     "metadata": {},
     "output_type": "execute_result"
    }
   ],
   "source": [
    "df.sort_values(by='fatalities', ascending=False).head()"
   ]
  },
  {
   "cell_type": "markdown",
   "id": "liked-facing",
   "metadata": {},
   "source": [
    "Showing the summary of the most deadly accident"
   ]
  },
  {
   "cell_type": "code",
   "execution_count": 32,
   "id": "loaded-level",
   "metadata": {},
   "outputs": [
    {
     "data": {
      "text/plain": [
       "'Both aircraft were diverted to Tenerife because of a bombing at Las Palmas Airport. After an extended delay,  both planes were instructed to back track up the runway. The KLM plane reached its takeoff point while the Pan Am plane was still on the runway. The Pan Am plane continued up the runway missing the taxiway turnout. There was heavy fog on the runway. The KLM plane began its takeoff roll without permission with the Pan Am plane still on the runway. The controller and Pan Am pilot each radioed a warning to the KLM plane, but were not heard because the simultaneous transmissions interfered with each other.The KLM plane hit the Pan Am plane just as it was taking off. Both planes burst into flames.  KLM 234 + 14 crew,  Pan Am 326 + 9 crew killed. All aboard the KLM plane were killed. The KLM captain was their safety officer and for some months had  been training other pilots using a simulator, where getting takeoff permission was not simulated. The Pan Am aircraft was named Clipper Victor. The KLM aircraft was named Rhine River. Despite all the circumstances the KLM plane was blamed for taking off without permission by the NTSB.'"
      ]
     },
     "execution_count": 32,
     "metadata": {},
     "output_type": "execute_result"
    }
   ],
   "source": [
    "df.sort_values(by='fatalities', ascending=False).iloc[0,-3]"
   ]
  },
  {
   "cell_type": "markdown",
   "id": "german-preliminary",
   "metadata": {},
   "source": [
    "### Country locations with the most accidents"
   ]
  },
  {
   "cell_type": "code",
   "execution_count": 33,
   "id": "military-thumb",
   "metadata": {},
   "outputs": [
    {
     "data": {
      "image/png": "[encoded data removed]",
      "text/plain": [
       "<Figure size 432x288 with 1 Axes>"
      ]
     },
     "metadata": {
      "needs_background": "light"
     },
     "output_type": "display_data"
    }
   ],
   "source": [
    "country_with_most_accidents = df.value_counts('country_loc').head(10).sort_values()\n",
    "country_with_most_accidents.plot(kind='barh',\n",
    "                                 title='Country Locations with the Most Accidents',\n",
    "                                 color='purple')\n",
    "plt.xlabel('Number of Accidents')\n",
    "plt.ylabel(None)\n",
    "plt.show()"
   ]
  },
  {
   "cell_type": "markdown",
   "id": "becoming-malawi",
   "metadata": {},
   "source": [
    "### Country locations with the most fatalities"
   ]
  },
  {
   "cell_type": "code",
   "execution_count": 34,
   "id": "enhanced-middle",
   "metadata": {},
   "outputs": [
    {
     "data": {
      "image/png": "[encoded data removed]",
      "text/plain": [
       "<Figure size 432x288 with 1 Axes>"
      ]
     },
     "metadata": {
      "needs_background": "light"
     },
     "output_type": "display_data"
    }
   ],
   "source": [
    "country_with_most_fatalities = df.groupby('country_loc').sum().sort_values(by='fatalities')['fatalities'].tail(10)\n",
    "country_with_most_fatalities.plot(kind='barh',\n",
    "                                  title='Country Locations with the Most Fatalities',\n",
    "                                  color='purple')\n",
    "plt.xlabel('Number of Fatalities')\n",
    "plt.ylabel(None)\n",
    "plt.show()"
   ]
  },
  {
   "cell_type": "markdown",
   "id": "stylish-mandate",
   "metadata": {},
   "source": [
    "### Country locations with the most yearly fatalities"
   ]
  },
  {
   "cell_type": "code",
   "execution_count": 35,
   "id": "considered-pointer",
   "metadata": {},
   "outputs": [
    {
     "data": {
      "image/png": "[encoded data removed]",
      "text/plain": [
       "<Figure size 432x288 with 1 Axes>"
      ]
     },
     "metadata": {
      "needs_background": "light"
     },
     "output_type": "display_data"
    }
   ],
   "source": [
    "countries_yearly_fatalities = (df.groupby('country_loc').sum()['fatalities'].sort_values() / len(df.groupby(df['date'].dt.year))).tail(10)\n",
    "countries_yearly_fatalities.plot(kind='barh',\n",
    "                                 title='Country Locations with the Most Yearly Fatalities',\n",
    "                                 color='purple')\n",
    "plt.xlabel('Number of Yearly Fatalities')\n",
    "plt.ylabel(None)\n",
    "plt.show()"
   ]
  },
  {
   "cell_type": "markdown",
   "id": "popular-husband",
   "metadata": {},
   "source": [
    "### Operators with the most accidents"
   ]
  },
  {
   "cell_type": "code",
   "execution_count": 36,
   "id": "funky-cartoon",
   "metadata": {},
   "outputs": [
    {
     "data": {
      "image/png": "[encoded data removed]",
      "text/plain": [
       "<Figure size 432x288 with 1 Axes>"
      ]
     },
     "metadata": {
      "needs_background": "light"
     },
     "output_type": "display_data"
    }
   ],
   "source": [
    "operator_with_most_accidents = df.value_counts('operator').head(10).sort_values()\n",
    "operator_with_most_accidents.plot(kind='barh',\n",
    "                                  title='Operators with the Most Accidents',\n",
    "                                  color='maroon')\n",
    "plt.xlabel('Number of Accidents')\n",
    "plt.ylabel(None)\n",
    "plt.show()"
   ]
  },
  {
   "cell_type": "markdown",
   "id": "positive-picking",
   "metadata": {},
   "source": [
    "### Manufacturers with the most accidents"
   ]
  },
  {
   "cell_type": "code",
   "execution_count": 37,
   "id": "protected-wesley",
   "metadata": {
    "tags": []
   },
   "outputs": [
    {
     "data": {
      "image/png": "[encoded data removed]",
      "text/plain": [
       "<Figure size 432x288 with 1 Axes>"
      ]
     },
     "metadata": {
      "needs_background": "light"
     },
     "output_type": "display_data"
    }
   ],
   "source": [
    "temp = df['ac_type'].str.split().explode()\n",
    "manufacturer_with_most_accidents = temp.loc[~temp.isin(['de', 'Otter', 'Canada', 'DHC-6', 'Twin', 'DC-3', '/'])].value_counts().head(10).sort_values()\n",
    "manufacturer_with_most_accidents.plot(kind='barh',\n",
    "                                     title='Manufacturer with the Most Accidents',\n",
    "                                     color='seagreen')\n",
    "plt.xlabel(\"Number of Accidents\")\n",
    "plt.ylabel(None)\n",
    "plt.show()"
   ]
  },
  {
   "cell_type": "markdown",
   "id": "synthetic-reconstruction",
   "metadata": {},
   "source": [
    "### Yearly Total Fatalities"
   ]
  },
  {
   "cell_type": "code",
   "execution_count": 38,
   "id": "junior-given",
   "metadata": {},
   "outputs": [
    {
     "data": {
      "image/png": "[encoded data removed]",
      "text/plain": [
       "<Figure size 432x288 with 1 Axes>"
      ]
     },
     "metadata": {
      "needs_background": "light"
     },
     "output_type": "display_data"
    }
   ],
   "source": [
    "yearly_total_fatalities = df.groupby(df['date'].dt.year).sum()['fatalities']\n",
    "yearly_total_fatalities.plot(title='Yearly Total Fatalities',\n",
    "                             xlabel='Year',\n",
    "                             color='purple',\n",
    "                             label='Yearly Number')\n",
    "plt.axhline(y=yearly_total_fatalities.mean(), color='tomato', ls='--', xmax=1, lw=2, label=\"Average Number = {:.0f}\".format(yearly_total_fatalities.mean()))\n",
    "plt.legend()\n",
    "plt.show()"
   ]
  },
  {
   "cell_type": "markdown",
   "id": "pediatric-warren",
   "metadata": {},
   "source": [
    "### Victims in Each Era"
   ]
  },
  {
   "cell_type": "code",
   "execution_count": 39,
   "id": "super-sleeve",
   "metadata": {},
   "outputs": [
    {
     "data": {
      "image/png": "[encoded data removed]",
      "text/plain": [
       "<Figure size 432x288 with 1 Axes>"
      ]
     },
     "metadata": {
      "needs_background": "light"
     },
     "output_type": "display_data"
    }
   ],
   "source": [
    "accidents_each_era = df.groupby((df['date'].dt.year//10)*10).count()['date']\n",
    "accidents_each_era.plot.bar(title='Number of Accidents in Every Decade',\n",
    "                            xlabel='Era (\\'s)',\n",
    "                            color=['navy'],\n",
    "                            stacked=True)\n",
    "plt.show()"
   ]
  },
  {
   "cell_type": "code",
   "execution_count": 40,
   "id": "affecting-issue",
   "metadata": {},
   "outputs": [
    {
     "data": {
      "image/png": "[encoded data removed]",
      "text/plain": [
       "<Figure size 432x288 with 1 Axes>"
      ]
     },
     "metadata": {
      "needs_background": "light"
     },
     "output_type": "display_data"
    }
   ],
   "source": [
    "victims_each_era = pd.concat([df.date,df.fatalities,df.aboard-df.fatalities], axis=1).rename({0:'survivors'},axis=1).groupby((df['date'].dt.year//10)*10).sum()\n",
    "victims_each_era.plot.bar(title='Number of Victims in Every Decade',\n",
    "                         xlabel='Era (\\'s)',\n",
    "                         color=['orangered','limegreen'],\n",
    "                         stacked=True)\n",
    "plt.show()"
   ]
  },
  {
   "cell_type": "markdown",
   "id": "communist-finance",
   "metadata": {},
   "source": [
    "### Accidents in Each Era"
   ]
  },
  {
   "cell_type": "markdown",
   "id": "growing-jason",
   "metadata": {},
   "source": [
    "### Percentage of accidents with all dead and all survived victims condition"
   ]
  },
  {
   "cell_type": "code",
   "execution_count": 41,
   "id": "sorted-exercise",
   "metadata": {},
   "outputs": [
    {
     "data": {
      "image/png": "[encoded data removed]",
      "text/plain": [
       "<Figure size 432x288 with 1 Axes>"
      ]
     },
     "metadata": {},
     "output_type": "display_data"
    }
   ],
   "source": [
    "all_dead_accident = len(df.loc[df['aboard'] == df['fatalities']])\n",
    "all_survived_accident = len(df.loc[df['fatalities'] == 0])\n",
    "\n",
    "plt.pie([all_dead_accident, all_survived_accident, len(df) - all_dead_accident - all_survived_accident], autopct='%1.2f%%', colors=['orangered','limegreen','grey'])\n",
    "plt.legend(['All Dead', 'All Survived', 'Others'])\n",
    "plt.show()"
   ]
  },
  {
   "cell_type": "markdown",
   "id": "subject-turning",
   "metadata": {},
   "source": [
    "It shows that only less than 2% of the accidents that have all of their victims survived"
   ]
  },
  {
   "cell_type": "markdown",
   "id": "tamil-plasma",
   "metadata": {},
   "source": [
    "### Accidents happened to military planes"
   ]
  },
  {
   "cell_type": "code",
   "execution_count": 42,
   "id": "consolidated-checkout",
   "metadata": {},
   "outputs": [
    {
     "data": {
      "image/png": "[encoded data removed]",
      "text/plain": [
       "<Figure size 432x288 with 1 Axes>"
      ]
     },
     "metadata": {},
     "output_type": "display_data"
    }
   ],
   "source": [
    "df_mil = df.loc[df['operator'].str.contains('military|army|force', case=False, na=False)]\n",
    "mil_percentage = len(df_mil) / len(df) * 100\n",
    "plt.pie([mil_percentage, 100 - mil_percentage], autopct='%1.2f%%', colors=['green','orange'])\n",
    "plt.legend(['Military Accidents', 'Others'])\n",
    "plt.show()"
   ]
  },
  {
   "cell_type": "markdown",
   "id": "functional-latino",
   "metadata": {},
   "source": [
    "### Time insights"
   ]
  },
  {
   "cell_type": "markdown",
   "id": "moral-password",
   "metadata": {},
   "source": [
    "The day and night are divided at 6:00 equally"
   ]
  },
  {
   "cell_type": "code",
   "execution_count": 43,
   "id": "banned-police",
   "metadata": {},
   "outputs": [
    {
     "data": {
      "image/png": "[encoded data removed]",
      "text/plain": [
       "<Figure size 432x288 with 1 Axes>"
      ]
     },
     "metadata": {},
     "output_type": "display_data"
    }
   ],
   "source": [
    "night_time_accidents = len(df.loc[(df['time'] > datetime.time(18, 0, 0)) | (df['time'] < datetime.time(6, 0, 0))])/len(df)*100\n",
    "\n",
    "plt.pie([night_time_accidents, 100 - night_time_accidents], autopct='%1.2f%%', colors=['blue','skyblue'])\n",
    "plt.legend(['Night', 'Day'])\n",
    "plt.title('sdasd')\n",
    "plt.show()"
   ]
  },
  {
   "cell_type": "markdown",
   "id": "serious-adoption",
   "metadata": {},
   "source": [
    "Nearly 3/4 of the accidents happen in daytime"
   ]
  },
  {
   "cell_type": "code",
   "execution_count": 44,
   "id": "respective-cursor",
   "metadata": {},
   "outputs": [
    {
     "data": {
      "image/png": "[encoded data removed]",
      "text/plain": [
       "<Figure size 432x288 with 1 Axes>"
      ]
     },
     "metadata": {
      "needs_background": "light"
     },
     "output_type": "display_data"
    }
   ],
   "source": [
    "time_distribution = pd.to_datetime(df['time'].astype('str')).dt.hour.dropna().astype('int16')\n",
    "\n",
    "xlabel = np.arange(0, 25, 3)\n",
    "time_distribution.hist(bins=xlabel, color=\"crimson\")\n",
    "plt.title(\"Time Distribution of Accidents (3 Hours Interval)\")\n",
    "plt.grid(axis=\"y\")\n",
    "plt.xticks(xlabel)\n",
    "plt.show()"
   ]
  },
  {
   "cell_type": "markdown",
   "id": "chicken-effect",
   "metadata": {},
   "source": [
    "***"
   ]
  },
  {
   "cell_type": "markdown",
   "id": "sonic-checklist",
   "metadata": {},
   "source": [
    "# Future Analysis"
   ]
  },
  {
   "cell_type": "markdown",
   "id": "structural-anderson",
   "metadata": {},
   "source": [
    "Clustering on accident summary's text to to identify the most frequent causes of the accidents"
   ]
  },
  {
   "cell_type": "markdown",
   "id": "standing-annual",
   "metadata": {},
   "source": [
    "Merging other dataset that contains the number of airplane passengers, number of airplane fleets, etc"
   ]
  }
 ],
 "metadata": {
  "kernelspec": {
   "display_name": "Python 3",
   "language": "python",
   "name": "python3"
  },
  "language_info": {
   "codemirror_mode": {
    "name": "ipython",
    "version": 3
   },
   "file_extension": ".py",
   "mimetype": "text/x-python",
   "name": "python",
   "nbconvert_exporter": "python",
   "pygments_lexer": "ipython3",
   "version": "3.8.6"
  }
 },
 "nbformat": 4,
 "nbformat_minor": 5
}
