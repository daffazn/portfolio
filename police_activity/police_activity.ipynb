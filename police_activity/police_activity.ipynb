{
 "cells": [
  {
   "cell_type": "code",
   "execution_count": 1,
   "id": "cardiovascular-nudist",
   "metadata": {},
   "outputs": [],
   "source": [
    "import numpy as np\n",
    "import pandas as pd\n",
    "import matplotlib.pyplot as plt"
   ]
  },
  {
   "cell_type": "markdown",
   "id": "mechanical-upgrade",
   "metadata": {},
   "source": [
    "# Preparing the data for analysis"
   ]
  },
  {
   "cell_type": "markdown",
   "id": "reported-galaxy",
   "metadata": {},
   "source": [
    "### Examining the dataset"
   ]
  },
  {
   "cell_type": "code",
   "execution_count": 2,
   "id": "finnish-customs",
   "metadata": {},
   "outputs": [],
   "source": [
    "ri = pd.read_csv('rhode_island.csv', low_memory=False)[['date','time','subject_sex',\n",
    "                                                        'subject_race','reason_for_stop','search_conducted',\n",
    "                                                        'reason_for_search','outcome','arrest_made',\n",
    "                                                        'contraband_drugs', 'zone']]"
   ]
  },
  {
   "cell_type": "code",
   "execution_count": 3,
   "id": "inner-notebook",
   "metadata": {},
   "outputs": [],
   "source": [
    "ri.rename({'date':'stop_date', 'time':'stop_time', 'subject_sex':'driver_gender',\n",
    "           'subject_race':'driver_race', 'reason_for_stop':'violation', 'reason_for_search':'search_type',\n",
    "           'outcome':'stop_outcome', 'arrest_made':'is_arrested', 'contraband_drugs':'drugs_related_stop', 'zone':'district'},axis=1,inplace=True)"
   ]
  },
  {
   "cell_type": "code",
   "execution_count": 4,
   "id": "fifty-decimal",
   "metadata": {},
   "outputs": [
    {
     "data": {
      "text/html": [
       "<div>\n",
       "<style scoped>\n",
       "    .dataframe tbody tr th:only-of-type {\n",
       "        vertical-align: middle;\n",
       "    }\n",
       "\n",
       "    .dataframe tbody tr th {\n",
       "        vertical-align: top;\n",
       "    }\n",
       "\n",
       "    .dataframe thead th {\n",
       "        text-align: right;\n",
       "    }\n",
       "</style>\n",
       "<table border=\"1\" class=\"dataframe\">\n",
       "  <thead>\n",
       "    <tr style=\"text-align: right;\">\n",
       "      <th></th>\n",
       "      <th>stop_date</th>\n",
       "      <th>stop_time</th>\n",
       "      <th>driver_gender</th>\n",
       "      <th>driver_race</th>\n",
       "      <th>violation</th>\n",
       "      <th>search_conducted</th>\n",
       "      <th>search_type</th>\n",
       "      <th>stop_outcome</th>\n",
       "      <th>is_arrested</th>\n",
       "      <th>drugs_related_stop</th>\n",
       "      <th>district</th>\n",
       "    </tr>\n",
       "  </thead>\n",
       "  <tbody>\n",
       "    <tr>\n",
       "      <th>0</th>\n",
       "      <td>2005-11-22</td>\n",
       "      <td>11:15:00</td>\n",
       "      <td>male</td>\n",
       "      <td>white</td>\n",
       "      <td>Speeding</td>\n",
       "      <td>False</td>\n",
       "      <td>NaN</td>\n",
       "      <td>citation</td>\n",
       "      <td>False</td>\n",
       "      <td>NaN</td>\n",
       "      <td>X3</td>\n",
       "    </tr>\n",
       "    <tr>\n",
       "      <th>1</th>\n",
       "      <td>2005-10-01</td>\n",
       "      <td>12:20:00</td>\n",
       "      <td>male</td>\n",
       "      <td>white</td>\n",
       "      <td>Speeding</td>\n",
       "      <td>False</td>\n",
       "      <td>NaN</td>\n",
       "      <td>citation</td>\n",
       "      <td>False</td>\n",
       "      <td>NaN</td>\n",
       "      <td>X3</td>\n",
       "    </tr>\n",
       "    <tr>\n",
       "      <th>2</th>\n",
       "      <td>2005-10-01</td>\n",
       "      <td>12:30:00</td>\n",
       "      <td>female</td>\n",
       "      <td>white</td>\n",
       "      <td>Speeding</td>\n",
       "      <td>False</td>\n",
       "      <td>NaN</td>\n",
       "      <td>citation</td>\n",
       "      <td>False</td>\n",
       "      <td>NaN</td>\n",
       "      <td>X3</td>\n",
       "    </tr>\n",
       "    <tr>\n",
       "      <th>3</th>\n",
       "      <td>2005-10-01</td>\n",
       "      <td>12:50:00</td>\n",
       "      <td>male</td>\n",
       "      <td>white</td>\n",
       "      <td>Speeding</td>\n",
       "      <td>False</td>\n",
       "      <td>NaN</td>\n",
       "      <td>citation</td>\n",
       "      <td>False</td>\n",
       "      <td>NaN</td>\n",
       "      <td>X3</td>\n",
       "    </tr>\n",
       "    <tr>\n",
       "      <th>4</th>\n",
       "      <td>2005-10-01</td>\n",
       "      <td>13:10:00</td>\n",
       "      <td>female</td>\n",
       "      <td>white</td>\n",
       "      <td>Speeding</td>\n",
       "      <td>False</td>\n",
       "      <td>NaN</td>\n",
       "      <td>citation</td>\n",
       "      <td>False</td>\n",
       "      <td>NaN</td>\n",
       "      <td>X3</td>\n",
       "    </tr>\n",
       "  </tbody>\n",
       "</table>\n",
       "</div>"
      ],
      "text/plain": [
       "    stop_date stop_time driver_gender driver_race violation  search_conducted  \\\n",
       "0  2005-11-22  11:15:00          male       white  Speeding             False   \n",
       "1  2005-10-01  12:20:00          male       white  Speeding             False   \n",
       "2  2005-10-01  12:30:00        female       white  Speeding             False   \n",
       "3  2005-10-01  12:50:00          male       white  Speeding             False   \n",
       "4  2005-10-01  13:10:00        female       white  Speeding             False   \n",
       "\n",
       "  search_type stop_outcome is_arrested drugs_related_stop district  \n",
       "0         NaN     citation       False                NaN       X3  \n",
       "1         NaN     citation       False                NaN       X3  \n",
       "2         NaN     citation       False                NaN       X3  \n",
       "3         NaN     citation       False                NaN       X3  \n",
       "4         NaN     citation       False                NaN       X3  "
      ]
     },
     "execution_count": 4,
     "metadata": {},
     "output_type": "execute_result"
    }
   ],
   "source": [
    "ri.head()"
   ]
  },
  {
   "cell_type": "code",
   "execution_count": 5,
   "id": "intense-meditation",
   "metadata": {},
   "outputs": [
    {
     "data": {
      "text/plain": [
       "(509681, 11)"
      ]
     },
     "execution_count": 5,
     "metadata": {},
     "output_type": "execute_result"
    }
   ],
   "source": [
    "ri.shape"
   ]
  },
  {
   "cell_type": "markdown",
   "id": "statewide-tuner",
   "metadata": {},
   "source": [
    "### Drop and fill null data"
   ]
  },
  {
   "cell_type": "code",
   "execution_count": 6,
   "id": "stone-latvia",
   "metadata": {},
   "outputs": [
    {
     "data": {
      "text/plain": [
       "stop_date                 10\n",
       "stop_time                 10\n",
       "driver_gender          29097\n",
       "driver_race            29073\n",
       "violation              29073\n",
       "search_conducted           0\n",
       "search_type           491919\n",
       "stop_outcome           35841\n",
       "is_arrested            29073\n",
       "drugs_related_stop    493693\n",
       "district                  10\n",
       "dtype: int64"
      ]
     },
     "execution_count": 6,
     "metadata": {},
     "output_type": "execute_result"
    }
   ],
   "source": [
    "ri.isnull().sum()"
   ]
  },
  {
   "cell_type": "code",
   "execution_count": 7,
   "id": "final-applicant",
   "metadata": {},
   "outputs": [],
   "source": [
    "ri.dropna(subset=['driver_gender','stop_outcome'],inplace=True)"
   ]
  },
  {
   "cell_type": "code",
   "execution_count": 8,
   "id": "through-mixture",
   "metadata": {},
   "outputs": [],
   "source": [
    "ri.fillna(value={'drugs_related_stop':False},inplace=True)"
   ]
  },
  {
   "cell_type": "code",
   "execution_count": 9,
   "id": "complete-vietnamese",
   "metadata": {},
   "outputs": [
    {
     "data": {
      "text/plain": [
       "stop_date                  0\n",
       "stop_time                  0\n",
       "driver_gender              0\n",
       "driver_race                0\n",
       "violation                  0\n",
       "search_conducted           0\n",
       "search_type           456490\n",
       "stop_outcome               0\n",
       "is_arrested                0\n",
       "drugs_related_stop         0\n",
       "district                   0\n",
       "dtype: int64"
      ]
     },
     "execution_count": 9,
     "metadata": {},
     "output_type": "execute_result"
    }
   ],
   "source": [
    "ri.isnull().sum()"
   ]
  },
  {
   "cell_type": "code",
   "execution_count": 10,
   "id": "brutal-closer",
   "metadata": {},
   "outputs": [
    {
     "data": {
      "text/plain": [
       "False    456490\n",
       "True      17331\n",
       "Name: search_conducted, dtype: int64"
      ]
     },
     "execution_count": 10,
     "metadata": {},
     "output_type": "execute_result"
    }
   ],
   "source": [
    "ri.search_conducted.value_counts()"
   ]
  },
  {
   "cell_type": "markdown",
   "id": "dental-motor",
   "metadata": {},
   "source": [
    "This explains why there are so many unknown search types. It's because the search itself is not even conducted."
   ]
  },
  {
   "cell_type": "markdown",
   "id": "bronze-collapse",
   "metadata": {},
   "source": [
    "### Fixing data types"
   ]
  },
  {
   "cell_type": "code",
   "execution_count": 11,
   "id": "english-religion",
   "metadata": {},
   "outputs": [
    {
     "data": {
      "text/plain": [
       "stop_date             object\n",
       "stop_time             object\n",
       "driver_gender         object\n",
       "driver_race           object\n",
       "violation             object\n",
       "search_conducted        bool\n",
       "search_type           object\n",
       "stop_outcome          object\n",
       "is_arrested           object\n",
       "drugs_related_stop      bool\n",
       "district              object\n",
       "dtype: object"
      ]
     },
     "execution_count": 11,
     "metadata": {},
     "output_type": "execute_result"
    }
   ],
   "source": [
    "ri.dtypes"
   ]
  },
  {
   "cell_type": "code",
   "execution_count": 12,
   "id": "approved-baptist",
   "metadata": {},
   "outputs": [],
   "source": [
    "ri['is_arrested'] = ri.is_arrested.astype('bool')"
   ]
  },
  {
   "cell_type": "code",
   "execution_count": 13,
   "id": "personalized-medication",
   "metadata": {},
   "outputs": [
    {
     "data": {
      "text/plain": [
       "dtype('bool')"
      ]
     },
     "execution_count": 13,
     "metadata": {},
     "output_type": "execute_result"
    }
   ],
   "source": [
    "ri.is_arrested.dtypes"
   ]
  },
  {
   "cell_type": "code",
   "execution_count": 14,
   "id": "comic-diary",
   "metadata": {},
   "outputs": [],
   "source": [
    "ri['stop_datetime'] = pd.to_datetime(ri.stop_date.str.cat(ri.stop_time, sep=' '))\n",
    "ri.set_index('stop_datetime', inplace=True)\n",
    "ri.drop(columns=['stop_date','stop_time'], inplace=True)"
   ]
  },
  {
   "cell_type": "code",
   "execution_count": 15,
   "id": "classical-printer",
   "metadata": {},
   "outputs": [
    {
     "data": {
      "text/html": [
       "<div>\n",
       "<style scoped>\n",
       "    .dataframe tbody tr th:only-of-type {\n",
       "        vertical-align: middle;\n",
       "    }\n",
       "\n",
       "    .dataframe tbody tr th {\n",
       "        vertical-align: top;\n",
       "    }\n",
       "\n",
       "    .dataframe thead th {\n",
       "        text-align: right;\n",
       "    }\n",
       "</style>\n",
       "<table border=\"1\" class=\"dataframe\">\n",
       "  <thead>\n",
       "    <tr style=\"text-align: right;\">\n",
       "      <th></th>\n",
       "      <th>driver_gender</th>\n",
       "      <th>driver_race</th>\n",
       "      <th>violation</th>\n",
       "      <th>search_conducted</th>\n",
       "      <th>search_type</th>\n",
       "      <th>stop_outcome</th>\n",
       "      <th>is_arrested</th>\n",
       "      <th>drugs_related_stop</th>\n",
       "      <th>district</th>\n",
       "    </tr>\n",
       "    <tr>\n",
       "      <th>stop_datetime</th>\n",
       "      <th></th>\n",
       "      <th></th>\n",
       "      <th></th>\n",
       "      <th></th>\n",
       "      <th></th>\n",
       "      <th></th>\n",
       "      <th></th>\n",
       "      <th></th>\n",
       "      <th></th>\n",
       "    </tr>\n",
       "  </thead>\n",
       "  <tbody>\n",
       "    <tr>\n",
       "      <th>2005-11-22 11:15:00</th>\n",
       "      <td>male</td>\n",
       "      <td>white</td>\n",
       "      <td>Speeding</td>\n",
       "      <td>False</td>\n",
       "      <td>NaN</td>\n",
       "      <td>citation</td>\n",
       "      <td>False</td>\n",
       "      <td>False</td>\n",
       "      <td>X3</td>\n",
       "    </tr>\n",
       "    <tr>\n",
       "      <th>2005-10-01 12:20:00</th>\n",
       "      <td>male</td>\n",
       "      <td>white</td>\n",
       "      <td>Speeding</td>\n",
       "      <td>False</td>\n",
       "      <td>NaN</td>\n",
       "      <td>citation</td>\n",
       "      <td>False</td>\n",
       "      <td>False</td>\n",
       "      <td>X3</td>\n",
       "    </tr>\n",
       "    <tr>\n",
       "      <th>2005-10-01 12:30:00</th>\n",
       "      <td>female</td>\n",
       "      <td>white</td>\n",
       "      <td>Speeding</td>\n",
       "      <td>False</td>\n",
       "      <td>NaN</td>\n",
       "      <td>citation</td>\n",
       "      <td>False</td>\n",
       "      <td>False</td>\n",
       "      <td>X3</td>\n",
       "    </tr>\n",
       "    <tr>\n",
       "      <th>2005-10-01 12:50:00</th>\n",
       "      <td>male</td>\n",
       "      <td>white</td>\n",
       "      <td>Speeding</td>\n",
       "      <td>False</td>\n",
       "      <td>NaN</td>\n",
       "      <td>citation</td>\n",
       "      <td>False</td>\n",
       "      <td>False</td>\n",
       "      <td>X3</td>\n",
       "    </tr>\n",
       "    <tr>\n",
       "      <th>2005-10-01 13:10:00</th>\n",
       "      <td>female</td>\n",
       "      <td>white</td>\n",
       "      <td>Speeding</td>\n",
       "      <td>False</td>\n",
       "      <td>NaN</td>\n",
       "      <td>citation</td>\n",
       "      <td>False</td>\n",
       "      <td>False</td>\n",
       "      <td>X3</td>\n",
       "    </tr>\n",
       "  </tbody>\n",
       "</table>\n",
       "</div>"
      ],
      "text/plain": [
       "                    driver_gender driver_race violation  search_conducted  \\\n",
       "stop_datetime                                                               \n",
       "2005-11-22 11:15:00          male       white  Speeding             False   \n",
       "2005-10-01 12:20:00          male       white  Speeding             False   \n",
       "2005-10-01 12:30:00        female       white  Speeding             False   \n",
       "2005-10-01 12:50:00          male       white  Speeding             False   \n",
       "2005-10-01 13:10:00        female       white  Speeding             False   \n",
       "\n",
       "                    search_type stop_outcome  is_arrested  drugs_related_stop  \\\n",
       "stop_datetime                                                                   \n",
       "2005-11-22 11:15:00         NaN     citation        False               False   \n",
       "2005-10-01 12:20:00         NaN     citation        False               False   \n",
       "2005-10-01 12:30:00         NaN     citation        False               False   \n",
       "2005-10-01 12:50:00         NaN     citation        False               False   \n",
       "2005-10-01 13:10:00         NaN     citation        False               False   \n",
       "\n",
       "                    district  \n",
       "stop_datetime                 \n",
       "2005-11-22 11:15:00       X3  \n",
       "2005-10-01 12:20:00       X3  \n",
       "2005-10-01 12:30:00       X3  \n",
       "2005-10-01 12:50:00       X3  \n",
       "2005-10-01 13:10:00       X3  "
      ]
     },
     "execution_count": 15,
     "metadata": {},
     "output_type": "execute_result"
    }
   ],
   "source": [
    "ri.head()"
   ]
  },
  {
   "cell_type": "markdown",
   "id": "forty-google",
   "metadata": {},
   "source": [
    "# Exploring the relationship between gender and policing"
   ]
  },
  {
   "cell_type": "markdown",
   "id": "partial-albert",
   "metadata": {},
   "source": [
    "- Do the genders commit different violations?\n",
    "- Does gender affect who gets a ticket for speeding?\n",
    "- Does gender affect whose vehicle is searched?\n",
    "- Does gender affect who is frisked during a search?"
   ]
  },
  {
   "cell_type": "markdown",
   "id": "scheduled-prevention",
   "metadata": {},
   "source": [
    "### Examining traffic violations"
   ]
  },
  {
   "cell_type": "code",
   "execution_count": 16,
   "id": "psychological-somewhere",
   "metadata": {},
   "outputs": [
    {
     "data": {
      "text/plain": [
       "Speeding                            268203\n",
       "Other Traffic Violation              89600\n",
       "Equipment/Inspection Violation       58249\n",
       "Registration Violation               19598\n",
       "Seatbelt Violation                   16271\n",
       "Special Detail/Directed Patrol       13456\n",
       "Call for Service                      6288\n",
       "Violation of City/Town Ordinance      1020\n",
       "APB                                    445\n",
       "Motorist Assist/Courtesy               365\n",
       "Suspicious Person                      221\n",
       "Warrant                                105\n",
       "Name: violation, dtype: int64"
      ]
     },
     "execution_count": 16,
     "metadata": {},
     "output_type": "execute_result"
    }
   ],
   "source": [
    "ri.violation.value_counts()"
   ]
  },
  {
   "cell_type": "code",
   "execution_count": 17,
   "id": "cultural-martial",
   "metadata": {},
   "outputs": [
    {
     "data": {
      "text/plain": [
       "Speeding                            0.566043\n",
       "Other Traffic Violation             0.189101\n",
       "Equipment/Inspection Violation      0.122935\n",
       "Registration Violation              0.041362\n",
       "Seatbelt Violation                  0.034340\n",
       "Special Detail/Directed Patrol      0.028399\n",
       "Call for Service                    0.013271\n",
       "Violation of City/Town Ordinance    0.002153\n",
       "APB                                 0.000939\n",
       "Motorist Assist/Courtesy            0.000770\n",
       "Suspicious Person                   0.000466\n",
       "Warrant                             0.000222\n",
       "Name: violation, dtype: float64"
      ]
     },
     "execution_count": 17,
     "metadata": {},
     "output_type": "execute_result"
    }
   ],
   "source": [
    "ri.violation.value_counts(normalize=True)"
   ]
  },
  {
   "cell_type": "markdown",
   "id": "champion-discipline",
   "metadata": {},
   "source": [
    "### Comparing violations by gender"
   ]
  },
  {
   "cell_type": "code",
   "execution_count": 18,
   "id": "accepting-toddler",
   "metadata": {},
   "outputs": [
    {
     "name": "stdout",
     "output_type": "stream",
     "text": [
      "Speeding                          0.666050\n",
      "Other Traffic Violation           0.137567\n",
      "Equipment/Inspection Violation    0.102869\n",
      "Registration Violation            0.043379\n",
      "Seatbelt Violation                0.027424\n",
      "Name: violation, dtype: float64\n",
      "Speeding                          0.528537\n",
      "Other Traffic Violation           0.208428\n",
      "Equipment/Inspection Violation    0.130460\n",
      "Registration Violation            0.040605\n",
      "Special Detail/Directed Patrol    0.037131\n",
      "Name: violation, dtype: float64\n"
     ]
    }
   ],
   "source": [
    "female = ri[ri.driver_gender=='female']\n",
    "male = ri[ri.driver_gender=='male']\n",
    "\n",
    "print(female.violation.value_counts(normalize=True).head(5))\n",
    "print(male.violation.value_counts(normalize=True).head(5))"
   ]
  },
  {
   "cell_type": "markdown",
   "id": "ranging-session",
   "metadata": {},
   "source": [
    "About two-thirds of female traffic stops are for speeding, whereas stops of males are more balanced among all categories. This doesn't mean that females speed more often than males, however, since we didn't take into account the number of stops or drivers."
   ]
  },
  {
   "cell_type": "markdown",
   "id": "moving-funds",
   "metadata": {},
   "source": [
    "### Comparing speeding outcomes by gender"
   ]
  },
  {
   "cell_type": "code",
   "execution_count": 19,
   "id": "rising-cambridge",
   "metadata": {},
   "outputs": [
    {
     "name": "stdout",
     "output_type": "stream",
     "text": [
      "citation    0.954609\n",
      "warning     0.039059\n",
      "arrest      0.006332\n",
      "Name: stop_outcome, dtype: float64\n",
      "citation    0.946763\n",
      "warning     0.036167\n",
      "arrest      0.017070\n",
      "Name: stop_outcome, dtype: float64\n"
     ]
    }
   ],
   "source": [
    "female_and_speeding = ri[(ri.driver_gender=='female')&(ri.violation=='Speeding')]\n",
    "male_and_speeding = ri[(ri.driver_gender=='male')&(ri.violation=='Speeding')]\n",
    "\n",
    "print(female_and_speeding.stop_outcome.value_counts(normalize=True))\n",
    "print(male_and_speeding.stop_outcome.value_counts(normalize=True))"
   ]
  },
  {
   "cell_type": "markdown",
   "id": "excellent-coupon",
   "metadata": {},
   "source": [
    "The numbers are similar for males and females: about 95% of stops for speeding result in a ticket. Thus, the data fails to show that gender has an impact on who gets a ticket for speeding."
   ]
  },
  {
   "cell_type": "markdown",
   "id": "another-zambia",
   "metadata": {},
   "source": [
    "### Comparing search rates by gender"
   ]
  },
  {
   "cell_type": "code",
   "execution_count": 20,
   "id": "incident-electricity",
   "metadata": {},
   "outputs": [
    {
     "data": {
      "text/plain": [
       "driver_gender\n",
       "female    0.018556\n",
       "male      0.043336\n",
       "Name: search_conducted, dtype: float64"
      ]
     },
     "execution_count": 20,
     "metadata": {},
     "output_type": "execute_result"
    }
   ],
   "source": [
    "ri.groupby('driver_gender').search_conducted.mean()"
   ]
  },
  {
   "cell_type": "markdown",
   "id": "removed-vacuum",
   "metadata": {},
   "source": [
    "Male drivers are searched more than twice as often as female drivers"
   ]
  },
  {
   "cell_type": "code",
   "execution_count": 21,
   "id": "oriental-spare",
   "metadata": {},
   "outputs": [
    {
     "data": {
      "text/plain": [
       "violation                         driver_gender\n",
       "APB                               female           0.168317\n",
       "                                  male             0.270349\n",
       "Call for Service                  female           0.054114\n",
       "                                  male             0.106768\n",
       "Equipment/Inspection Violation    female           0.040394\n",
       "                                  male             0.071471\n",
       "Motorist Assist/Courtesy          female           0.119048\n",
       "                                  male             0.202847\n",
       "Other Traffic Violation           female           0.037462\n",
       "                                  male             0.058130\n",
       "Registration Violation            female           0.053871\n",
       "                                  male             0.101987\n",
       "Seatbelt Violation                female           0.017777\n",
       "                                  male             0.031429\n",
       "Special Detail/Directed Patrol    female           0.018154\n",
       "                                  male             0.010238\n",
       "Speeding                          female           0.007714\n",
       "                                  male             0.026437\n",
       "Suspicious Person                 female           0.272727\n",
       "                                  male             0.344633\n",
       "Violation of City/Town Ordinance  female           0.061611\n",
       "                                  male             0.069221\n",
       "Warrant                           female           0.173913\n",
       "                                  male             0.329268\n",
       "Name: search_conducted, dtype: float64"
      ]
     },
     "execution_count": 21,
     "metadata": {},
     "output_type": "execute_result"
    }
   ],
   "source": [
    "ri.groupby(['violation','driver_gender']).search_conducted.mean()"
   ]
  },
  {
   "cell_type": "markdown",
   "id": "complimentary-google",
   "metadata": {},
   "source": [
    "### Comparing frisk rates by gender"
   ]
  },
  {
   "cell_type": "code",
   "execution_count": 22,
   "id": "aware-norfolk",
   "metadata": {},
   "outputs": [
    {
     "data": {
      "text/plain": [
       "Incident to Arrest                                          6810\n",
       "Probable Cause                                              2042\n",
       "Odor of Drugs/Alcohol                                       1824\n",
       "Reasonable Suspicion                                        1105\n",
       "Inventory/Tow                                               1083\n",
       "                                                            ... \n",
       "Incident to Arrest|Terry Frisk|Plain View                      1\n",
       "Inventory/Tow|Plain View|Probable Cause                        1\n",
       "Terry Frisk|Incident to Arrest|Odor of Drugs/Alcohol           1\n",
       "Inventory/Tow|Odor of Drugs/Alcohol|Reasonable Suspicion       1\n",
       "Odor of Drugs/Alcohol|Reasonable Suspicion|Inventory/Tow       1\n",
       "Name: search_type, Length: 187, dtype: int64"
      ]
     },
     "execution_count": 22,
     "metadata": {},
     "output_type": "execute_result"
    }
   ],
   "source": [
    "ri.search_type.value_counts()"
   ]
  },
  {
   "cell_type": "code",
   "execution_count": 23,
   "id": "continent-import",
   "metadata": {},
   "outputs": [
    {
     "data": {
      "text/plain": [
       "1560"
      ]
     },
     "execution_count": 23,
     "metadata": {},
     "output_type": "execute_result"
    }
   ],
   "source": [
    "ri['frisk'] = ri.search_type.str.contains('Terry Frisk', na=False)\n",
    "ri.frisk.sum()"
   ]
  },
  {
   "cell_type": "code",
   "execution_count": 24,
   "id": "seventh-radiation",
   "metadata": {},
   "outputs": [
    {
     "data": {
      "text/plain": [
       "driver_gender\n",
       "female    0.065888\n",
       "male      0.093886\n",
       "Name: frisk, dtype: float64"
      ]
     },
     "execution_count": 24,
     "metadata": {},
     "output_type": "execute_result"
    }
   ],
   "source": [
    "searched = ri[ri.search_conducted == True]\n",
    "searched.groupby('driver_gender').frisk.mean()"
   ]
  },
  {
   "cell_type": "markdown",
   "id": "nasty-reverse",
   "metadata": {},
   "source": [
    "The frisk rate is higher for males than for females, though we can't conclude that this difference is caused by the driver's gender."
   ]
  },
  {
   "cell_type": "markdown",
   "id": "superior-trail",
   "metadata": {},
   "source": [
    "# Visual Exploratory Data Analysis"
   ]
  },
  {
   "cell_type": "markdown",
   "id": "gross-procedure",
   "metadata": {},
   "source": [
    "- Does time of day affect arrest rate?\n",
    "- Are drug-related stops on the rise?\n",
    "- What violations are caught in each district?"
   ]
  },
  {
   "cell_type": "markdown",
   "id": "fiscal-conversation",
   "metadata": {},
   "source": [
    "### Hourly arrest rate"
   ]
  },
  {
   "cell_type": "code",
   "execution_count": 25,
   "id": "several-incentive",
   "metadata": {},
   "outputs": [],
   "source": [
    "hourly_arrest_rate = ri.groupby(ri.index.hour).is_arrested.mean()"
   ]
  },
  {
   "cell_type": "code",
   "execution_count": 26,
   "id": "vocal-compilation",
   "metadata": {},
   "outputs": [
    {
     "data": {
      "image/png": "[encoded data removed]",
      "text/plain": [
       "<Figure size 432x288 with 1 Axes>"
      ]
     },
     "metadata": {
      "needs_background": "light"
     },
     "output_type": "display_data"
    }
   ],
   "source": [
    "hourly_arrest_rate.plot()\n",
    "plt.xlabel('Hour')\n",
    "plt.ylabel('Arrest Rate')\n",
    "plt.title('Arrest Rate by Time of Day')\n",
    "plt.show()"
   ]
  },
  {
   "cell_type": "markdown",
   "id": "considered-sweden",
   "metadata": {},
   "source": [
    "### Comparing drug and search rates"
   ]
  },
  {
   "cell_type": "code",
   "execution_count": 27,
   "id": "severe-funds",
   "metadata": {},
   "outputs": [],
   "source": [
    "annual_drug_rate = ri.drugs_related_stop.resample('A').mean()\n",
    "annual_search_rate = ri.search_conducted.resample('A').mean()\n",
    "annual = pd.concat([annual_drug_rate, annual_search_rate], axis=1)"
   ]
  },
  {
   "cell_type": "code",
   "execution_count": 28,
   "id": "saved-gamma",
   "metadata": {},
   "outputs": [
    {
     "data": {
      "image/png": "[encoded data removed]",
      "text/plain": [
       "<Figure size 432x288 with 2 Axes>"
      ]
     },
     "metadata": {
      "needs_background": "light"
     },
     "output_type": "display_data"
    }
   ],
   "source": [
    "annual.plot(subplots=True)\n",
    "plt.show()"
   ]
  },
  {
   "cell_type": "markdown",
   "id": "ignored-ambassador",
   "metadata": {},
   "source": [
    "The rate of drug-related stops increased even though the search rate decreased"
   ]
  },
  {
   "cell_type": "markdown",
   "id": "retired-structure",
   "metadata": {},
   "source": [
    "### Violations by district"
   ]
  },
  {
   "cell_type": "code",
   "execution_count": 29,
   "id": "seven-match",
   "metadata": {},
   "outputs": [],
   "source": [
    "all_zones = pd.crosstab(ri.district, ri.violation)\n",
    "k_zones = all_zones.loc['K1':'K3']"
   ]
  },
  {
   "cell_type": "code",
   "execution_count": 30,
   "id": "opposed-conclusion",
   "metadata": {},
   "outputs": [
    {
     "data": {
      "image/png": "[encoded data removed]",
      "text/plain": [
       "<Figure size 432x288 with 1 Axes>"
      ]
     },
     "metadata": {
      "needs_background": "light"
     },
     "output_type": "display_data"
    }
   ],
   "source": [
    "k_zones.plot(kind='bar', stacked=True)\n",
    "plt.legend(loc='center left', bbox_to_anchor=(1, 0.5))\n",
    "plt.show()"
   ]
  }
 ],
 "metadata": {
  "kernelspec": {
   "display_name": "Python 3",
   "language": "python",
   "name": "python3"
  },
  "language_info": {
   "codemirror_mode": {
    "name": "ipython",
    "version": 3
   },
   "file_extension": ".py",
   "mimetype": "text/x-python",
   "name": "python",
   "nbconvert_exporter": "python",
   "pygments_lexer": "ipython3",
   "version": "3.8.6"
  }
 },
 "nbformat": 4,
 "nbformat_minor": 5
}
